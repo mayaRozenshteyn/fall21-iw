{
  "nbformat": 4,
  "nbformat_minor": 5,
  "metadata": {
    "kernelspec": {
      "display_name": "Python 3",
      "language": "python",
      "name": "python3"
    },
    "language_info": {
      "codemirror_mode": {
        "name": "ipython",
        "version": 3
      },
      "file_extension": ".py",
      "mimetype": "text/x-python",
      "name": "python",
      "nbconvert_exporter": "python",
      "pygments_lexer": "ipython3",
      "version": "3.9.2"
    },
    "colab": {
      "name": "COVID_Data_Processing.ipynb",
      "provenance": [],
      "collapsed_sections": []
    }
  },
  "cells": [
    {
      "cell_type": "markdown",
      "source": [
        "# COVID Case & Death Data Processing & Grouping by Census Division"
      ],
      "metadata": {
        "id": "4N6uw8n2YdfL"
      },
      "id": "4N6uw8n2YdfL"
    },
    {
      "cell_type": "code",
      "metadata": {
        "id": "nervous-chaos"
      },
      "source": [
        "%matplotlib inline        \n",
        "import matplotlib.pyplot as plt        \n",
        "import seaborn; seaborn.set()  # set plot style\n",
        "from datetime import date\n",
        "import time\n",
        "import numpy as np\n",
        "import pandas as pd        "
      ],
      "id": "nervous-chaos",
      "execution_count": null,
      "outputs": []
    },
    {
      "cell_type": "code",
      "source": [
        "covid_confirmed_cases = pd.read_csv('https://usafactsstatic.blob.core.windows.net/public/data/covid-19/covid_confirmed_usafacts.csv')\n",
        "covid_county_population = pd.read_csv('https://usafactsstatic.blob.core.windows.net/public/data/covid-19/covid_county_population_usafacts.csv')\n",
        "covid_deaths = pd.read_csv('https://usafactsstatic.blob.core.windows.net/public/data/covid-19/covid_deaths_usafacts.csv')\n",
        "us_state_vaccinations = pd.read_csv('https://raw.githubusercontent.com/owid/covid-19-data/master/public/data/vaccinations/us_state_vaccinations.csv') # unused"
      ],
      "metadata": {
        "id": "J2tTLdC5XK2M"
      },
      "id": "J2tTLdC5XK2M",
      "execution_count": null,
      "outputs": []
    },
    {
      "cell_type": "code",
      "metadata": {
        "id": "1jxvYRqg5f1N"
      },
      "source": [
        "new_england = [\"CT\", \"ME\", \"MA\", \"NH\", \"RI\", \"VT\"]\n",
        "mid_atlantic = [\"NJ\", \"NY\", \"PA\"]\n",
        "east_north_central = [\"IL\", \"IN\", \"MI\", \"OH\", \"WI\"]\n",
        "west_north_central = [\"IA\", \"KS\", \"MN\", \"MO\", \"NE\", \"ND\", \"SD\"]\n",
        "south_atlantic = [\"DE\", \"FL\", \"GA\", \"MD\", \"NC\", \"SC\", \"VA\", \"WV\"]\n",
        "east_south_central = [\"AL\", \"KY\", \"MS\", \"TN\"]\n",
        "west_south_central = [\"AR\", \"LA\", \"OK\", \"TX\"]\n",
        "mountain = [\"AZ\", \"CO\", \"ID\", \"MT\", \"NV\", \"NM\", \"UT\", \"WY\"]\n",
        "pacific = [\"AK\", \"CA\", \"HI\", \"OR\", \"WA\"]"
      ],
      "id": "1jxvYRqg5f1N",
      "execution_count": null,
      "outputs": []
    },
    {
      "cell_type": "code",
      "metadata": {
        "id": "R416k5EnwpsW"
      },
      "source": [
        "# processing new covid confirmed cases, deaths and population datasets to remove Statewide Unallocated data\n",
        "covid_confirmed_cases = covid_confirmed_cases.loc[covid_confirmed_cases['County Name'] != 'Statewide Unallocated']\n",
        "covid_deaths = covid_deaths.loc[covid_deaths['County Name'] != 'Statewide Unallocated']\n",
        "covid_county_population = covid_county_population.loc[covid_county_population['County Name'] != 'Statewide Unallocated']"
      ],
      "id": "R416k5EnwpsW",
      "execution_count": null,
      "outputs": []
    },
    {
      "cell_type": "code",
      "metadata": {
        "id": "mmVQ_3WBwxEN"
      },
      "source": [
        "# returns dataframe modified from daily to weekly time frame\n",
        "def daily_to_weekly(dataframe_name): \n",
        "    counts_states = dataframe_name.drop(columns = ['countyFIPS', 'StateFIPS','County Name', '2020-01-22', \n",
        "                                                         '2020-01-23', '2020-01-24', '2020-01-25'])\n",
        "    counts_states_daily_total = counts_states.groupby('State').sum()    \n",
        "    \n",
        "    counts_states_daily_total = counts_states_daily_total.drop(columns = ['2020-01-26'])\n",
        "    \n",
        "    # converting daily data to weekly for new covid confirmed cases dataset\n",
        "    counts_states_daily_total_modified = counts_states_daily_total.T.reset_index()\n",
        "    \n",
        "    counts_states_daily_total_modified = counts_states_daily_total_modified.assign(Weeks = counts_states_daily_total_modified['index']).drop(columns = 'index')\n",
        "    \n",
        "    counts_states_daily_total_modified['Weeks'] = counts_states_daily_total_modified['Weeks'].astype('datetime64[ns]')\n",
        "    \n",
        "    counts_states_weekly_total = counts_states_daily_total_modified.resample('W-Mon', label='left', closed = 'left', on='Weeks').max()\n",
        "   \n",
        "    return(counts_states_weekly_total)"
      ],
      "id": "mmVQ_3WBwxEN",
      "execution_count": null,
      "outputs": []
    },
    {
      "cell_type": "code",
      "metadata": {
        "id": "Mod3evgP8626"
      },
      "source": [
        "# returns cases/deaths in designated time frame\n",
        "def get_by_period(df, start_date, end_date):\n",
        "  after_start_date = df[\"Weeks\"] >= start_date\n",
        "  before_end_date = df[\"Weeks\"] <= end_date\n",
        "  between_two_dates = after_start_date & before_end_date\n",
        "  filtered_dates = df.loc[between_two_dates]\n",
        "  \n",
        "  return filtered_dates"
      ],
      "id": "Mod3evgP8626",
      "execution_count": null,
      "outputs": []
    },
    {
      "cell_type": "code",
      "source": [
        "# determining population total for all states; territories population numbers are not included;\n",
        "covid_county_population_total = covid_county_population['population'].sum()\n",
        "\n",
        "# grouping population data by State and dropping not needed column\n",
        "covid_county_population_total_by_state = covid_county_population.groupby('State').sum().drop(columns = 'countyFIPS')"
      ],
      "metadata": {
        "id": "7GfoHz62bpPi"
      },
      "id": "7GfoHz62bpPi",
      "execution_count": null,
      "outputs": []
    },
    {
      "cell_type": "markdown",
      "source": [
        "**Cases**"
      ],
      "metadata": {
        "id": "t6J7gs6_axn6"
      },
      "id": "t6J7gs6_axn6"
    },
    {
      "cell_type": "code",
      "metadata": {
        "id": "t6z5noLV8QkC"
      },
      "source": [
        "# converting daily to weekly time reference\n",
        "cases_states_weekly_total = daily_to_weekly(covid_confirmed_cases)\n",
        "\n",
        "cases_fall = get_by_period(cases_states_weekly_total, \"2020-06-01\", \"2020-12-31\")\n",
        "cases_spr = get_by_period(cases_states_weekly_total, \"2021-1-1\", \"2021-7-1\")\n",
        "\n",
        "total_cases_fall = cases_fall.iloc[-1 ,:-1] - cases_fall.iloc[0 ,:-1]\n",
        "total_cases_spr = cases_spr.iloc[-1 ,:-1] - cases_spr.iloc[0 ,:-1]\n",
        "\n",
        "total_cases_fall = pd.DataFrame(total_cases_fall, columns=['cases'])\n",
        "total_cases_spr = pd.DataFrame(total_cases_spr, columns=['cases'])"
      ],
      "id": "t6z5noLV8QkC",
      "execution_count": null,
      "outputs": []
    },
    {
      "cell_type": "code",
      "source": [
        "print(total_cases_fall['cases'].sum())\n",
        "print(total_cases_spr['cases'].sum())"
      ],
      "metadata": {
        "colab": {
          "base_uri": "https://localhost:8080/"
        },
        "id": "Ao7uu90haFrs",
        "outputId": "691f241d-869f-4f92-cbb8-068afa450743"
      },
      "id": "Ao7uu90haFrs",
      "execution_count": null,
      "outputs": [
        {
          "output_type": "stream",
          "name": "stdout",
          "text": [
            "16756968\n",
            "12617442\n"
          ]
        }
      ]
    },
    {
      "cell_type": "code",
      "metadata": {
        "id": "dHYSlTV66M1z"
      },
      "source": [
        "covid_percentage_fall = total_cases_fall['cases'].div(covid_county_population_total_by_state['population']) * 100\n",
        "covid_percentage_spr = total_cases_spr['cases'].div(covid_county_population_total_by_state['population']) * 100"
      ],
      "id": "dHYSlTV66M1z",
      "execution_count": null,
      "outputs": []
    },
    {
      "cell_type": "code",
      "source": [
        "print(total_cases_fall['cases'].sum())\n",
        "print(total_cases_spr['cases'].sum())"
      ],
      "metadata": {
        "id": "-ZAFL97PaYwS"
      },
      "id": "-ZAFL97PaYwS",
      "execution_count": null,
      "outputs": []
    },
    {
      "cell_type": "code",
      "source": [
        "new_england_covid_percentage = covid_percentage_fall[new_england].mean()\n",
        "mid_atlantic_covid_percentage = covid_percentage_fall[mid_atlantic].mean()\n",
        "east_north_central_covid_percentage = covid_percentage_fall[east_north_central].mean()\n",
        "west_north_central_covid_percentage = covid_percentage_fall[west_north_central].mean()\n",
        "south_atlantic_covid_percentage = covid_percentage_fall[south_atlantic].mean()\n",
        "east_south_central_covid_percentage = covid_percentage_fall[east_south_central].mean()\n",
        "west_south_central_covid_percentage = covid_percentage_fall[west_south_central].mean()\n",
        "mountain_covid_percentage = covid_percentage_fall[mountain].mean()\n",
        "pacific_covid_percentage = covid_percentage_fall[pacific].mean()\n",
        "\n",
        "print(new_england_covid_percentage)\n",
        "print(mid_atlantic_covid_percentage)\n",
        "print(east_north_central_covid_percentage)\n",
        "print(west_north_central_covid_percentage)\n",
        "print(south_atlantic_covid_percentage)\n",
        "print(east_south_central_covid_percentage)\n",
        "print(west_south_central_covid_percentage)\n",
        "print(mountain_covid_percentage)\n",
        "print(pacific_covid_percentage)"
      ],
      "metadata": {
        "colab": {
          "base_uri": "https://localhost:8080/"
        },
        "id": "h8SZtAkvb0SD",
        "outputId": "351888d0-5b05-418c-ff8c-ab1de1bd4308"
      },
      "id": "h8SZtAkvb0SD",
      "execution_count": null,
      "outputs": [
        {
          "output_type": "stream",
          "name": "stdout",
          "text": [
            "2.87695543122557\n",
            "3.4372237388163573\n",
            "6.33303941595009\n",
            "8.091565578753393\n",
            "4.451383229853076\n",
            "6.485332182535187\n",
            "6.157937392531796\n",
            "6.6513582043307125\n",
            "3.4804517410057656\n"
          ]
        }
      ]
    },
    {
      "cell_type": "code",
      "metadata": {
        "colab": {
          "base_uri": "https://localhost:8080/"
        },
        "id": "UKQ_b39lqt-o",
        "outputId": "311fc53c-e1e4-4dc1-968d-c14159a0e120"
      },
      "source": [
        "new_england_covid_percentage = covid_percentage_spr[new_england].mean()\n",
        "mid_atlantic_covid_percentage = covid_percentage_spr[mid_atlantic].mean()\n",
        "east_north_central_covid_percentage = covid_percentage_spr[east_north_central].mean()\n",
        "west_north_central_covid_percentage = covid_percentage_spr[west_north_central].mean()\n",
        "south_atlantic_covid_percentage = covid_percentage_spr[south_atlantic].mean()\n",
        "east_south_central_covid_percentage = covid_percentage_spr[east_south_central].mean()\n",
        "west_south_central_covid_percentage = covid_percentage_spr[west_south_central].mean()\n",
        "mountain_covid_percentage = covid_percentage_spr[mountain].mean()\n",
        "pacific_covid_percentage = covid_percentage_spr[pacific].mean()\n",
        "\n",
        "print(new_england_covid_percentage)\n",
        "print(mid_atlantic_covid_percentage)\n",
        "print(east_north_central_covid_percentage)\n",
        "print(west_north_central_covid_percentage)\n",
        "print(south_atlantic_covid_percentage)\n",
        "print(east_south_central_covid_percentage)\n",
        "print(west_south_central_covid_percentage)\n",
        "print(mountain_covid_percentage)\n",
        "print(pacific_covid_percentage)"
      ],
      "id": "UKQ_b39lqt-o",
      "execution_count": null,
      "outputs": [
        {
          "output_type": "stream",
          "name": "stdout",
          "text": [
            "4.104581590152892\n",
            "5.085395401215568\n",
            "3.422274059230989\n",
            "2.9094031082019614\n",
            "4.108145517436194\n",
            "3.7419580558513004\n",
            "3.7802309974428185\n",
            "3.403795555115627\n",
            "2.471691099996717\n"
          ]
        }
      ]
    },
    {
      "cell_type": "markdown",
      "source": [
        "**Deaths**"
      ],
      "metadata": {
        "id": "a-t62vxoa228"
      },
      "id": "a-t62vxoa228"
    },
    {
      "cell_type": "code",
      "source": [
        "# converting daily to weekly time reference\n",
        "deaths_states_weekly_total = daily_to_weekly(covid_deaths)\n",
        "\n",
        "deaths_fall = get_by_period(deaths_states_weekly_total, \"2020-06-01\", \"2020-12-31\")\n",
        "deaths_spr = get_by_period(deaths_states_weekly_total, \"2021-1-1\", \"2021-7-1\")\n",
        "\n",
        "total_deaths_fall = deaths_fall.iloc[-1 ,:-1] - deaths_fall.iloc[0 ,:-1]\n",
        "total_deaths_spr = deaths_spr.iloc[-1 ,:-1] - deaths_spr.iloc[0 ,:-1]\n",
        "\n",
        "total_deaths_fall = pd.DataFrame(total_deaths_fall, columns=['cases'])\n",
        "total_deaths_spr = pd.DataFrame(total_deaths_spr, columns=['cases'])"
      ],
      "metadata": {
        "id": "OLD5THpDbOq4"
      },
      "id": "OLD5THpDbOq4",
      "execution_count": null,
      "outputs": []
    },
    {
      "cell_type": "code",
      "source": [
        "deaths_percentage_fall = total_deaths_fall['cases'].div(covid_county_population_total_by_state['population']) * 100\n",
        "deaths_percentage_spr = total_deaths_spr['cases'].div(covid_county_population_total_by_state['population']) * 100"
      ],
      "metadata": {
        "id": "jZtMnbTEbhor"
      },
      "id": "jZtMnbTEbhor",
      "execution_count": null,
      "outputs": []
    },
    {
      "cell_type": "code",
      "source": [
        "new_england_covid_percentage = deaths_percentage_fall[new_england].mean()\n",
        "mid_atlantic_covid_percentage = deaths_percentage_fall[mid_atlantic].mean()\n",
        "east_north_central_covid_percentage = deaths_percentage_fall[east_north_central].mean()\n",
        "west_north_central_covid_percentage = deaths_percentage_fall[west_north_central].mean()\n",
        "south_atlantic_covid_percentage = deaths_percentage_fall[south_atlantic].mean()\n",
        "east_south_central_covid_percentage = deaths_percentage_fall[east_south_central].mean()\n",
        "west_south_central_covid_percentage = deaths_percentage_fall[west_south_central].mean()\n",
        "mountain_covid_percentage = deaths_percentage_fall[mountain].mean()\n",
        "pacific_covid_percentage = deaths_percentage_fall[pacific].mean()\n",
        "\n",
        "print(new_england_covid_percentage)\n",
        "print(mid_atlantic_covid_percentage)\n",
        "print(east_north_central_covid_percentage)\n",
        "print(west_north_central_covid_percentage)\n",
        "print(south_atlantic_covid_percentage)\n",
        "print(east_south_central_covid_percentage)\n",
        "print(west_south_central_covid_percentage)\n",
        "print(mountain_covid_percentage)\n",
        "print(pacific_covid_percentage)"
      ],
      "metadata": {
        "colab": {
          "base_uri": "https://localhost:8080/"
        },
        "id": "FReYmo1-dmK0",
        "outputId": "ae473ee9-7596-4182-8959-252bfe92a548"
      },
      "id": "FReYmo1-dmK0",
      "execution_count": null,
      "outputs": [
        {
          "output_type": "stream",
          "name": "stdout",
          "text": [
            "0.046374580827569685\n",
            "0.05905766822073005\n",
            "0.07076216023354316\n",
            "0.09741081763518489\n",
            "0.06151975877044149\n",
            "0.0857277100217408\n",
            "0.08561815976973948\n",
            "0.07097546105114794\n",
            "0.029647461990574886\n"
          ]
        }
      ]
    },
    {
      "cell_type": "code",
      "source": [
        "new_england_covid_percentage = deaths_percentage_spr[new_england].mean()\n",
        "mid_atlantic_covid_percentage = deaths_percentage_spr[mid_atlantic].mean()\n",
        "east_north_central_covid_percentage = deaths_percentage_spr[east_north_central].mean()\n",
        "west_north_central_covid_percentage = deaths_percentage_spr[west_north_central].mean()\n",
        "south_atlantic_covid_percentage = deaths_percentage_spr[south_atlantic].mean()\n",
        "east_south_central_covid_percentage = deaths_percentage_spr[east_south_central].mean()\n",
        "west_south_central_covid_percentage = deaths_percentage_spr[west_south_central].mean()\n",
        "mountain_covid_percentage = deaths_percentage_spr[mountain].mean()\n",
        "pacific_covid_percentage = deaths_percentage_spr[pacific].mean()\n",
        "\n",
        "print(new_england_covid_percentage)\n",
        "print(mid_atlantic_covid_percentage)\n",
        "print(east_north_central_covid_percentage)\n",
        "print(west_north_central_covid_percentage)\n",
        "print(south_atlantic_covid_percentage)\n",
        "print(east_south_central_covid_percentage)\n",
        "print(west_south_central_covid_percentage)\n",
        "print(mountain_covid_percentage)\n",
        "print(pacific_covid_percentage)"
      ],
      "metadata": {
        "colab": {
          "base_uri": "https://localhost:8080/"
        },
        "id": "YFijCJQJd1fa",
        "outputId": "769f3e96-86b5-4d84-c568-917617c945d5"
      },
      "id": "YFijCJQJd1fa",
      "execution_count": null,
      "outputs": [
        {
          "output_type": "stream",
          "name": "stdout",
          "text": [
            "0.0545208786569808\n",
            "0.08237951788293428\n",
            "0.07260541709449206\n",
            "0.05412796117231704\n",
            "0.07732050809543047\n",
            "0.09930961328330697\n",
            "0.08553192103418158\n",
            "0.06355509683974972\n",
            "0.03872182862225765\n"
          ]
        }
      ]
    }
  ]
}