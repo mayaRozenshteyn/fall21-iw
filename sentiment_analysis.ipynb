{
  "nbformat": 4,
  "nbformat_minor": 0,
  "metadata": {
    "colab": {
      "name": "sentiment_analysis.ipynb",
      "provenance": [],
      "collapsed_sections": [
        "G7s2lWtxla48",
        "Lb4bBr1bO_ek"
      ]
    },
    "kernelspec": {
      "name": "python3",
      "display_name": "Python 3"
    },
    "language_info": {
      "name": "python"
    }
  },
  "cells": [
    {
      "cell_type": "markdown",
      "source": [
        "# Preprocessing of Facebook Data + Calculation of Sentiment & Polarity Statistics"
      ],
      "metadata": {
        "id": "_VBVN_0MVQOh"
      }
    },
    {
      "cell_type": "markdown",
      "source": [
        "# Imports + Definitions"
      ],
      "metadata": {
        "id": "py41f-nulF82"
      }
    },
    {
      "cell_type": "code",
      "metadata": {
        "id": "Gos9Vhs5j-aN",
        "colab": {
          "base_uri": "https://localhost:8080/"
        },
        "outputId": "d2f886fa-50c0-46f7-c9ae-f729517cd69e"
      },
      "source": [
        "!pip install nltk"
      ],
      "execution_count": 72,
      "outputs": [
        {
          "output_type": "stream",
          "name": "stdout",
          "text": [
            "Requirement already satisfied: nltk in /usr/local/lib/python3.7/dist-packages (3.2.5)\n",
            "Requirement already satisfied: six in /usr/local/lib/python3.7/dist-packages (from nltk) (1.15.0)\n"
          ]
        }
      ]
    },
    {
      "cell_type": "code",
      "metadata": {
        "id": "SmAJhEEZcuAH",
        "colab": {
          "base_uri": "https://localhost:8080/"
        },
        "outputId": "e2f0ada8-a26a-4a47-892b-2ff7e766ba10"
      },
      "source": [
        "!pip install vaderSentiment"
      ],
      "execution_count": 73,
      "outputs": [
        {
          "output_type": "stream",
          "name": "stdout",
          "text": [
            "Requirement already satisfied: vaderSentiment in /usr/local/lib/python3.7/dist-packages (3.3.2)\n",
            "Requirement already satisfied: requests in /usr/local/lib/python3.7/dist-packages (from vaderSentiment) (2.23.0)\n",
            "Requirement already satisfied: certifi>=2017.4.17 in /usr/local/lib/python3.7/dist-packages (from requests->vaderSentiment) (2021.10.8)\n",
            "Requirement already satisfied: chardet<4,>=3.0.2 in /usr/local/lib/python3.7/dist-packages (from requests->vaderSentiment) (3.0.4)\n",
            "Requirement already satisfied: idna<3,>=2.5 in /usr/local/lib/python3.7/dist-packages (from requests->vaderSentiment) (2.10)\n",
            "Requirement already satisfied: urllib3!=1.25.0,!=1.25.1,<1.26,>=1.21.1 in /usr/local/lib/python3.7/dist-packages (from requests->vaderSentiment) (1.24.3)\n"
          ]
        }
      ]
    },
    {
      "cell_type": "code",
      "metadata": {
        "id": "fsdtOXANTAnx",
        "colab": {
          "base_uri": "https://localhost:8080/"
        },
        "outputId": "79435447-50bf-4111-a526-73e3031ffd2a"
      },
      "source": [
        "!pip install researchpy"
      ],
      "execution_count": 74,
      "outputs": [
        {
          "output_type": "stream",
          "name": "stdout",
          "text": [
            "Requirement already satisfied: researchpy in /usr/local/lib/python3.7/dist-packages (0.3.2)\n",
            "Requirement already satisfied: pandas in /usr/local/lib/python3.7/dist-packages (from researchpy) (1.1.5)\n",
            "Requirement already satisfied: patsy in /usr/local/lib/python3.7/dist-packages (from researchpy) (0.5.2)\n",
            "Requirement already satisfied: numpy in /usr/local/lib/python3.7/dist-packages (from researchpy) (1.19.5)\n",
            "Requirement already satisfied: statsmodels in /usr/local/lib/python3.7/dist-packages (from researchpy) (0.13.1)\n",
            "Requirement already satisfied: scipy in /usr/local/lib/python3.7/dist-packages (from researchpy) (1.7.3)\n",
            "Requirement already satisfied: python-dateutil>=2.7.3 in /usr/local/lib/python3.7/dist-packages (from pandas->researchpy) (2.8.2)\n",
            "Requirement already satisfied: pytz>=2017.2 in /usr/local/lib/python3.7/dist-packages (from pandas->researchpy) (2018.9)\n",
            "Requirement already satisfied: six>=1.5 in /usr/local/lib/python3.7/dist-packages (from python-dateutil>=2.7.3->pandas->researchpy) (1.15.0)\n"
          ]
        }
      ]
    },
    {
      "cell_type": "code",
      "source": [
        "!pip install pingouin"
      ],
      "metadata": {
        "colab": {
          "base_uri": "https://localhost:8080/"
        },
        "id": "w6liLp8yIVvs",
        "outputId": "a9e79b75-6933-42b0-8c1c-000f61f1d700"
      },
      "execution_count": 75,
      "outputs": [
        {
          "output_type": "stream",
          "name": "stdout",
          "text": [
            "Requirement already satisfied: pingouin in /usr/local/lib/python3.7/dist-packages (0.5.0)\n",
            "Requirement already satisfied: outdated in /usr/local/lib/python3.7/dist-packages (from pingouin) (0.2.1)\n",
            "Requirement already satisfied: pandas-flavor>=0.2.0 in /usr/local/lib/python3.7/dist-packages (from pingouin) (0.2.0)\n",
            "Requirement already satisfied: matplotlib>=3.0.2 in /usr/local/lib/python3.7/dist-packages (from pingouin) (3.2.2)\n",
            "Requirement already satisfied: statsmodels>=0.12.0 in /usr/local/lib/python3.7/dist-packages (from pingouin) (0.13.1)\n",
            "Requirement already satisfied: scikit-learn in /usr/local/lib/python3.7/dist-packages (from pingouin) (1.0.1)\n",
            "Requirement already satisfied: pandas>=1.0 in /usr/local/lib/python3.7/dist-packages (from pingouin) (1.1.5)\n",
            "Requirement already satisfied: seaborn>=0.9.0 in /usr/local/lib/python3.7/dist-packages (from pingouin) (0.11.2)\n",
            "Requirement already satisfied: scipy>=1.7 in /usr/local/lib/python3.7/dist-packages (from pingouin) (1.7.3)\n",
            "Requirement already satisfied: numpy>=1.19 in /usr/local/lib/python3.7/dist-packages (from pingouin) (1.19.5)\n",
            "Requirement already satisfied: tabulate in /usr/local/lib/python3.7/dist-packages (from pingouin) (0.8.9)\n",
            "Requirement already satisfied: cycler>=0.10 in /usr/local/lib/python3.7/dist-packages (from matplotlib>=3.0.2->pingouin) (0.11.0)\n",
            "Requirement already satisfied: kiwisolver>=1.0.1 in /usr/local/lib/python3.7/dist-packages (from matplotlib>=3.0.2->pingouin) (1.3.2)\n",
            "Requirement already satisfied: python-dateutil>=2.1 in /usr/local/lib/python3.7/dist-packages (from matplotlib>=3.0.2->pingouin) (2.8.2)\n",
            "Requirement already satisfied: pyparsing!=2.0.4,!=2.1.2,!=2.1.6,>=2.0.1 in /usr/local/lib/python3.7/dist-packages (from matplotlib>=3.0.2->pingouin) (3.0.6)\n",
            "Requirement already satisfied: pytz>=2017.2 in /usr/local/lib/python3.7/dist-packages (from pandas>=1.0->pingouin) (2018.9)\n",
            "Requirement already satisfied: xarray in /usr/local/lib/python3.7/dist-packages (from pandas-flavor>=0.2.0->pingouin) (0.18.2)\n",
            "Requirement already satisfied: six>=1.5 in /usr/local/lib/python3.7/dist-packages (from python-dateutil>=2.1->matplotlib>=3.0.2->pingouin) (1.15.0)\n",
            "Requirement already satisfied: patsy>=0.5.2 in /usr/local/lib/python3.7/dist-packages (from statsmodels>=0.12.0->pingouin) (0.5.2)\n",
            "Requirement already satisfied: requests in /usr/local/lib/python3.7/dist-packages (from outdated->pingouin) (2.23.0)\n",
            "Requirement already satisfied: littleutils in /usr/local/lib/python3.7/dist-packages (from outdated->pingouin) (0.2.2)\n",
            "Requirement already satisfied: certifi>=2017.4.17 in /usr/local/lib/python3.7/dist-packages (from requests->outdated->pingouin) (2021.10.8)\n",
            "Requirement already satisfied: urllib3!=1.25.0,!=1.25.1,<1.26,>=1.21.1 in /usr/local/lib/python3.7/dist-packages (from requests->outdated->pingouin) (1.24.3)\n",
            "Requirement already satisfied: idna<3,>=2.5 in /usr/local/lib/python3.7/dist-packages (from requests->outdated->pingouin) (2.10)\n",
            "Requirement already satisfied: chardet<4,>=3.0.2 in /usr/local/lib/python3.7/dist-packages (from requests->outdated->pingouin) (3.0.4)\n",
            "Requirement already satisfied: threadpoolctl>=2.0.0 in /usr/local/lib/python3.7/dist-packages (from scikit-learn->pingouin) (3.0.0)\n",
            "Requirement already satisfied: joblib>=0.11 in /usr/local/lib/python3.7/dist-packages (from scikit-learn->pingouin) (1.1.0)\n",
            "Requirement already satisfied: setuptools>=40.4 in /usr/local/lib/python3.7/dist-packages (from xarray->pandas-flavor>=0.2.0->pingouin) (57.4.0)\n"
          ]
        }
      ]
    },
    {
      "cell_type": "code",
      "metadata": {
        "id": "6G_HNYEpkVqq",
        "colab": {
          "base_uri": "https://localhost:8080/"
        },
        "outputId": "e0caf4bb-69e4-4c47-a14e-83cfffcc7d61"
      },
      "source": [
        "# importing libraries\n",
        "import researchpy as rp\n",
        "import pandas as pd\n",
        "import nltk\n",
        "from nltk.tokenize import sent_tokenize\n",
        "from vaderSentiment.vaderSentiment import SentimentIntensityAnalyzer\n",
        "import re\n",
        "from datetime import datetime\n",
        "import scipy.stats as st\n",
        "import numpy as np\n",
        "import statsmodels.api as sm\n",
        "import statsmodels.formula.api as smf\n",
        "import pingouin as pg\n",
        "nltk.download('punkt')"
      ],
      "execution_count": 76,
      "outputs": [
        {
          "output_type": "stream",
          "name": "stdout",
          "text": [
            "[nltk_data] Downloading package punkt to /root/nltk_data...\n",
            "[nltk_data]   Package punkt is already up-to-date!\n"
          ]
        },
        {
          "output_type": "execute_result",
          "data": {
            "text/plain": [
              "True"
            ]
          },
          "metadata": {},
          "execution_count": 76
        }
      ]
    },
    {
      "cell_type": "code",
      "source": [
        "new_england = [\"HarvardNC.csv\", \"BostonCollegeNC.csv\", \"DartmouthNC.csv\", \"UConnNC.csv\", \"MITnewsNC.csv\"]\n",
        "mid_atlantic = [\"pennstateNC.csv\", \"NYUNC.csv\", \"UnivPennsylvaniaNC.csv\", \"PrincetonUNC.csv\", \"RITfbNC.csv\"]\n",
        "east_north_central = [\"UniversityOfMichiganNC.csv\", \"notredameNC.csv\", \"spartans.msuNC.csv\", \"illinois.eduNC.csv\", \"PurdueUniversityNC.csv\"]\n",
        "west_north_central = [\"KStateNC.csv\", \"universityofiowaNC.csv\", \"KUNC.csv\", \"IowaStateUNC.csv\", \"UofMNNC.csv\"]\n",
        "south_atlantic = [\"clemsonunivNC.csv\", \"universityofgaNC.csv\", \"georgiatechNC.csv\", \"DukeUnivNC.csv\", \"virginiatechNC.csv\"]\n",
        "east_south_central = [\"universityofalabamaNC.csv\", \"auburnuNC.csv\", \"UTKnoxvilleNC.csv\", \"msstateNC.csv\", \"olemissNC.csv\"]\n",
        "west_south_central = [\"UTAustinTXNC.csv\", \"uofoklahomaNC.csv\", \"txstateuNC.csv\", \"tamuNC.csv\", \"BaylorUniversity1845NC.csv\"]\n",
        "mountain = [\"BYUNC.csv\", \"arizonastateuniversityNC.csv\", \"universityofutahNC.csv\", \"cuboulderNC.csv\", \"uarizonaNC.csv\"]\n",
        "pacific = [\"StanfordNC.csv\", \"UCSanDiegoNC.csv\", \"UofWANC.csv\", \"UCDavisNC.csv\", \"universityoforegonNC.csv\"]"
      ],
      "metadata": {
        "id": "5knNKLFrQ8xd"
      },
      "execution_count": 77,
      "outputs": []
    },
    {
      "cell_type": "code",
      "metadata": {
        "id": "rCWdWOhbkZb9"
      },
      "source": [
        "online_f = [\"HarvardNC.csv\", \"DartmouthNC.csv\", \"UnivPennsylvaniaNC.csv\", \"clemsonunivNC.csv\", \"spartans.msuNC.csv\", \"universityofutahNC.csv\", \"StanfordNC.csv\", \"UCSanDiegoNC.csv\", \"UofWANC.csv\", \"UConnNC.csv\", \"PrincetonUNC.csv\", \"MITnewsNC.csv\", \"UofMNNC.csv\", \"universityoforegonNC.csv\", \"uarizonaNC.csv\"]\n",
        "hybrid_f = [\"UniversityOfMichiganNC.csv\", \"arizonastateuniversityNC.csv\", \"UTAustinTXNC.csv\", \"georgiatechNC.csv\", \"auburnuNC.csv\", \"pennstateNC.csv\", \"UTKnoxvilleNC.csv\", \"NYUNC.csv\", \"illinois.eduNC.csv\", \"msstateNC.csv\", \"cuboulderNC.csv\", \"DukeUnivNC.csv\", \"UCDavisNC.csv\", \"olemissNC.csv\", \"BaylorUniversity1845NC.csv\"]\n",
        "in_person_f = [\"notredameNC.csv\", \"universityofiowaNC.csv\", \"universityofalabamaNC.csv\", \"BYUNC.csv\", \"universityofgaNC.csv\", \"txstateuNC.csv\", \"KStateNC.csv\", \"uofoklahomaNC.csv\", \"KUNC.csv\", \"BostonCollegeNC.csv\", \"IowaStateUNC.csv\", \"tamuNC.csv\", \"PurdueUniversityNC.csv\", \"RITfbNC.csv\", \"virginiatechNC.csv\"]\n",
        "\n",
        "online_s = [\"HarvardNC.csv\", \"DartmouthNC.csv\", \"UnivPennsylvaniaNC.csv\", \"clemsonunivNC.csv\", \"spartans.msuNC.csv\", \"universityofutahNC.csv\", \"StanfordNC.csv\", \"UCSanDiegoNC.csv\", \"UofWANC.csv\", \"KStateNC.csv\", \"UTAustinTXNC.csv\", \"NYUNC.csv\", \"PrincetonUNC.csv\", \"cuboulderNC.csv\", \"UCDavisNC.csv\", \"MITnewsNC.csv\", \"PurdueUniversityNC.csv\", \"universityoforegonNC.csv\", \"uarizonaNC.csv\", \"RITfbNC.csv\"]\n",
        "hybrid_s = [\"UniversityOfMichiganNC.csv\", \"arizonastateuniversityNC.csv\",\"pennstateNC.csv\",  \"BYUNC.csv\", \"UTKnoxvilleNC.csv\", \"BostonCollegeNC.csv\", \"IowaStateUNC.csv\", \"illinois.eduNC.csv\", \"UConnNC.csv\", \"tamuNC.csv\", \"DukeUnivNC.csv\", \"UofMNNC.csv\"]\n",
        "in_person_s = [\"notredameNC.csv\", \"universityofiowaNC.csv\", \"universityofalabamaNC.csv\", \"universityofgaNC.csv\", \"txstateuNC.csv\", \"georgiatechNC.csv\", \"auburnuNC.csv\", \"uofoklahomaNC.csv\", \"KUNC.csv\", \"msstateNC.csv\", \"olemissNC.csv\", \"BaylorUniversity1845NC.csv\", \"virginiatechNC.csv\"]\n",
        "\n",
        "\n",
        "all_univs = online_f + in_person_f + hybrid_f"
      ],
      "execution_count": 78,
      "outputs": []
    },
    {
      "cell_type": "code",
      "metadata": {
        "id": "XRlhGrMskT1P"
      },
      "source": [
        "covid_dict = [\"6 feet apart\", \"6' apart\", \"asymptomatic\", \"community spread\", \n",
        "            \"confirmed positive case\", \"confirmed positive cases\", \n",
        "            \"contact trace\", \"contact traced\", \"contact tracing\", \"coronavirus\", \n",
        "            \"COVID\", \"COVID-19\", \"COVID19\", \"distance learning\", \"endemic\", \n",
        "            \"epidemic\", \"face covering\", \"face coverings\", \"facemask\", \"facemasks\", \n",
        "            \"flatten the curve\", \"flattened the curve\", \"flattening the curve\", \n",
        "            \"herd immunity\", \"hybrid classes\", \"hybrid instruction\", \"hybrid learning\", \n",
        "            \"hybrid semester\", \"hybrid semester\", \"hybrid teaching\", \n",
        "            \"in person classes\", \"in person courses\", \"in person intruction\", \n",
        "            \"in person learning\", \"in person school\", \"in person semester\", \n",
        "            \"in person teaching\", \"in-person classes\", \"in-person courses\", \n",
        "            \"in-person intruction\", \"in-person learning\", \"in-person school\", \n",
        "            \"in-person semester\", \"in-person teaching\", \"isolation\", \n",
        "            \"learning at home\", \"learning from home\", \"learning online\", \n",
        "            \"learning remotely\", \"lockdown \", \"mask\", \"mask mandate\", \n",
        "            \"mask required\", \"masks required\", \"nasal swab\", \"online classes\", \n",
        "            \"online courses\", \"online instruction\", \"online learning\", \n",
        "            \"online school\", \"online semester\", \"online teaching\", \"outbreak\", \n",
        "            \"pandemic\", \"physical distance\", \"physical distancing\", \n",
        "            \"physically distanced\", \"physically distancing\", \"PPE\", \n",
        "            \"quarantine\", \"quarantining\", \"rapid test\", \"remote coursework\", \n",
        "            \"remote instruction\", \"remote learning\", \"remote semester\", \n",
        "            \"remote teaching\", \"return to learn\", \"return to the classroom\", \n",
        "            \"safety protocols\", \"SARS-CoV-2\", \"self-isolation\", \"self-monitoring\", \n",
        "            \"shelter-in-place\", \"six feet apart\", \"social distance\", \n",
        "            \"social distancing\", \"social isolation\", \"socially distanced\", \n",
        "            \"socially distant\", \"spit test\", \"symptomatic\", \"teaching remotely\", \n",
        "            \"transmission\", \"transmit\", \"vaccinate\", \"vaccinated\", \"vaccination\", \n",
        "            \"vaccine\", \"vax\", \"vaxination\", \"vaxine\", \"vaxx\", \"vaxxination\", \n",
        "            \"vaxxine\", \"ventilator\", \"virtual instruction\", \"virtual learning\", \n",
        "            \"virtual semester\", \"work from home\", \"working at home\", \n",
        "            \"working from home\", \"working remotely\", \"zoom classes\", \n",
        "            \"zoom coursework\", \"zoom instruction\", \"zoom learning\", \"zoom semester\"]\n",
        "            \n",
        "reopening_dict = [\"distance learning\", \"hybrid classes\", \"hybrid instruction\", \n",
        "                  \"hybrid learning\", \"hybrid semester\", \"hybrid semester\", \n",
        "                  \"hybrid teaching\", \"in person classes\", \"in person courses\", \n",
        "                  \"in person instruction\", \"in person learning\", \n",
        "                  \"in person school\", \"in person semester\", \"in person teaching\", \n",
        "                  \"in-person classes\", \"in-person courses\", \"in-person instruction\", \n",
        "                  \"in-person learning\", \"in-person school\", \"in-person semester\", \n",
        "                  \"in-person teaching\", \"learning at home\", \"learning from home\", \n",
        "                  \"learning online\", \"learning remotely\", \"online classes\", \n",
        "                  \"online courses\", \"online instruction\", \"online learning\", \n",
        "                  \"online school\", \"online semester\", \"online teaching\", \n",
        "                  \"remote coursework\", \"remote instruction\", \"remote learning\", \n",
        "                  \"remote semester\", \"remote teaching\", \"return to learn\", \n",
        "                  \"return to the classroom\", \"teaching remotely\", \n",
        "                  \"virtual instruction\", \"virtual learning\", \"virtual semester\", \n",
        "                  \"work from home\", \"working at home\", \"working from home\", \n",
        "                  \"working remotely\", \"zoom classes\", \"zoom coursework\", \n",
        "                  \"zoom instruction\", \"zoom learning\", \"zoom semester\"]\n",
        "\n",
        "covid_keywords = '|'.join(covid_dict)\n",
        "reopening_keywords = '|'.join(reopening_dict)"
      ],
      "execution_count": 79,
      "outputs": []
    },
    {
      "cell_type": "markdown",
      "source": [
        "# Helper Functions"
      ],
      "metadata": {
        "id": "G7s2lWtxla48"
      }
    },
    {
      "cell_type": "code",
      "metadata": {
        "id": "aB2PUljW9FZc"
      },
      "source": [
        "# generates column names (will be 0, 1, 2, ..., largest_column_count - 1)\n",
        "def get_largest_col_count(csv_file):\n",
        "  data_file_delimiter = ','\n",
        "  largest_column_count = 0\n",
        "\n",
        "  with open(csv_file, 'r') as temp_f:\n",
        "      lines = temp_f.readlines()\n",
        "\n",
        "      for l in lines:\n",
        "          column_count = len(l.split(data_file_delimiter)) + 1\n",
        "          largest_column_count = column_count if largest_column_count < column_count else largest_column_count\n",
        "  \n",
        "  column_names = [i for i in range(0, largest_column_count)]\n",
        "\n",
        "  return column_names"
      ],
      "execution_count": 111,
      "outputs": []
    },
    {
      "cell_type": "code",
      "metadata": {
        "id": "SDl3w_ZnkqWh"
      },
      "source": [
        "# concatenates multiple universities' data\n",
        "def compile_dataset(schools):\n",
        "  df_combined = pd.DataFrame()\n",
        "\n",
        "  for school in schools:\n",
        "    column_names = get_largest_col_count(school)\n",
        "    df = pd.read_csv(school, header=None, delimiter=\",\", names=column_names) \n",
        "    df = df.fillna('')\n",
        "    df_combined = df_combined.append(df)\n",
        "  \n",
        "  total_num_posts = df_combined.shape[0]\n",
        "  \n",
        "  df_combined = df_combined.fillna('')\n",
        "\n",
        "  return df_combined, total_num_posts"
      ],
      "execution_count": 112,
      "outputs": []
    },
    {
      "cell_type": "code",
      "metadata": {
        "id": "WbviRgzNP1pD"
      },
      "source": [
        "# filters posts using COVID dictionary\n",
        "def filter_covid_posts(df):\n",
        "  df_covid = df[df.iloc[:, 0].str.contains(covid_keywords, case=False)]\n",
        "  return df_covid, df_covid.shape[0]"
      ],
      "execution_count": 113,
      "outputs": []
    },
    {
      "cell_type": "code",
      "metadata": {
        "id": "DfaG0dLIKEpx"
      },
      "source": [
        "# filters posts based on designated time frame (i.e.: fall 2020, spring 2021)\n",
        "def get_posts_by_period(df, start_date, end_date):\n",
        "  df.iloc[:, 1] = pd.to_datetime(df.iloc[:, 1])\n",
        "  \n",
        "  after_start_date = df.iloc[:, 1] >= start_date\n",
        "  before_end_date = df.iloc[:, 1] <= end_date\n",
        "  between_two_dates = after_start_date & before_end_date\n",
        "  filtered_dates = df.loc[between_two_dates]\n",
        "  \n",
        "  return filtered_dates, filtered_dates.shape[0]"
      ],
      "execution_count": 114,
      "outputs": []
    },
    {
      "cell_type": "code",
      "metadata": {
        "id": "tFM3XiImzN99"
      },
      "source": [
        "# returns only the post comments\n",
        "def get_comments_only(df):\n",
        "  df = df.fillna('')\n",
        "  return df.iloc[:, 2:]"
      ],
      "execution_count": 115,
      "outputs": []
    },
    {
      "cell_type": "code",
      "metadata": {
        "id": "OoVG1ZVZyZXY"
      },
      "source": [
        "# uses NLTK to sentence tokenize the dataset (works best for VADER)\n",
        "def sentence_tokenize(df):\n",
        "  sentence_list = []\n",
        "  for rowIndex, row in df.iterrows(): # iterate over rows\n",
        "    row = row.str.replace('\\\\','').str.strip()\n",
        "    for columnIndex, value in row.items():\n",
        "        if type(value) is str:\n",
        "            value = value.replace('\\n', ' ').replace(':::', ',')\n",
        "            value = re.sub(r'http\\S+', '', value) # removes URLs\n",
        "\n",
        "            # # CHECK\n",
        "            # if (any(value in s for s in english_names) and len(value.split()) == 2):\n",
        "            #   continue\n",
        "\n",
        "            for sentence in sent_tokenize(value):\n",
        "              sentence_list.append(sentence)\n",
        "\n",
        "  return sentence_list"
      ],
      "execution_count": 116,
      "outputs": []
    },
    {
      "cell_type": "code",
      "metadata": {
        "id": "PVsFOx4vcw3U"
      },
      "source": [
        "analyzer = SentimentIntensityAnalyzer()\n",
        "\n",
        "# uses VADER to measure comment sentiment\n",
        "def analyze_sentiment(df):\n",
        "  sentence_list = sentence_tokenize(df)\n",
        "  polarity_list = []\n",
        "  for sentence in sentence_list:\n",
        "      if sentence:\n",
        "          vs = analyzer.polarity_scores(sentence)\n",
        "          polarity_list.append([sentence, vs])\n",
        "\n",
        "  polarity_df = pd.DataFrame(polarity_list, columns=['Comment', 'Sentiment'])\n",
        "  polarity_df['neg']  = polarity_df['Sentiment'].apply(lambda score_dict: score_dict['neg'])\n",
        "  polarity_df['neu']  = polarity_df['Sentiment'].apply(lambda score_dict: score_dict['neu'])\n",
        "  polarity_df['pos']  = polarity_df['Sentiment'].apply(lambda score_dict: score_dict['pos'])\n",
        "  polarity_df['compound']  = polarity_df['Sentiment'].apply(lambda score_dict: score_dict['compound'])\n",
        "  polarity_df['comp_score'] = polarity_df['compound'].apply(lambda c: 'pos' if c >=0 else 'neg')\n",
        "\n",
        "  return polarity_df"
      ],
      "execution_count": 117,
      "outputs": []
    },
    {
      "cell_type": "code",
      "metadata": {
        "id": "HwYrH-__UAJL"
      },
      "source": [
        "# calculates relevant sentiment statistics (mean, standard deviation)\n",
        "def sentiment_stats(df):\n",
        "  sentiment_scores = df['compound'].tolist()\n",
        "  mean = np.mean(sentiment_scores)\n",
        "  std_dev = np.std(sentiment_scores)\n",
        "  conf_int = st.norm.interval(alpha=0.95, loc=mean, scale=st.sem(sentiment_scores))\n",
        "\n",
        "  return mean, std_dev"
      ],
      "execution_count": 118,
      "outputs": []
    },
    {
      "cell_type": "code",
      "metadata": {
        "id": "x2ojjroOhcKS"
      },
      "source": [
        "# Main Method\n",
        "def compile_filter_analyze(schools, is_fall, is_spr):\n",
        "  compiled_data, total_num_posts = compile_dataset(schools)\n",
        "  if is_fall:\n",
        "    compiled_data, total_num_posts = get_posts_by_period(compiled_data, \"2020-6-1\", \"2020-12-31\")\n",
        "  elif is_spr:\n",
        "    compiled_data, total_num_posts = get_posts_by_period(compiled_data, \"2021-1-1\", \"2021-7-1\")\n",
        "\n",
        "  filtered_df, total_pandemic_posts = filter_covid_posts(compiled_data)\n",
        "\n",
        "  percentage_covid_posts = total_pandemic_posts / total_num_posts\n",
        "\n",
        "  comments = get_comments_only(filtered_df)\n",
        "  polarity_df = analyze_sentiment(comments)\n",
        "\n",
        "  mean_sentiment, sentiment_stdev = sentiment_stats(polarity_df)\n",
        "  \n",
        "  return percentage_covid_posts, mean_sentiment, sentiment_stdev, polarity_df"
      ],
      "execution_count": 119,
      "outputs": []
    },
    {
      "cell_type": "markdown",
      "metadata": {
        "id": "B_-0Ql5kStPi"
      },
      "source": [
        "# **Results**"
      ]
    },
    {
      "cell_type": "markdown",
      "source": [
        "Sentiment Mean and Standard Deviation for all Universities"
      ],
      "metadata": {
        "id": "rSWMYUAgjknh"
      }
    },
    {
      "cell_type": "code",
      "source": [
        "# do sentiment for one school at a time and then take mean (for loop over all_univs)\n",
        "all_uni_dict = {}\n",
        "for univ in all_univs:\n",
        "  fall_pc, fall_mean, fall_stdev, _ = compile_filter_analyze([univ], True, False)\n",
        "  spring_pc, spring_mean, spring_stdev, _ = compile_filter_analyze([univ], False, True)\n",
        "  all_uni_dict[univ] = (fall_pc, fall_mean, fall_stdev,  spring_pc, spring_mean, spring_stdev)"
      ],
      "metadata": {
        "id": "XKJD6nAPP3MU",
        "colab": {
          "base_uri": "https://localhost:8080/"
        },
        "outputId": "8d990752-e5b7-4734-9bae-70653c8489c8"
      },
      "execution_count": 148,
      "outputs": [
        {
          "output_type": "stream",
          "name": "stderr",
          "text": [
            "/usr/local/lib/python3.7/dist-packages/IPython/core/interactiveshell.py:2882: DtypeWarning: Columns (57,58,59,60,61,62,63,64,65,66,67,68,69,70,71,72,73,74,75,76,77,78,79,80,81,82,83,84,85,86,87,88,89,90,91,92,93,94,95,96,97,98,99,100,101,102,103,104,105,106,107,108,109,110,111,112,113,114,115,116,117,118,119,120,121,122,123,124,125,126,127,128,129,130,131,132,133,134,135,136,137,138,139,140,141,142,143,144,145,146,147,148,149,150,151,152,153,154,155,156,157,158,159,160,161,162,163,164,165,166,167,168,169,170,171,172,173,174,175,176,177,178,179,180,181,182,183,184,185,186,187,188,189,190,191,192,193,194,195,196,197,198,199,200,201,202,203,204,205,206,207,208,209,210,211,212,213,214,215,216,217,218,219,220,221,222,223,224,225,226,227,228,229,230,231,232,233,234,235,236,237,238,239,240,241,242,243,244,245,246,247,248,249,250,251,252,253,254,255,256,257,258,259,260,261,262,263,264,265,266,267,268,269,270,271,272,273,274,275,276,277,278,279,280,281,282,283,284,285,286,287,288,289,290,291,292,293,294,295,296,297,298,299,300,301,302,303,304,305,306,307,308,309,310,311,312,313,314,315,316,317,318,319,320,321,322,323,324,325,326,327,328,329,330,331,332,333,334,335,336,337,338,339,340,341,342,343,344,345,346,347,348,349,350,351,352,353,354,355,356,357,358,359,360,361,362,363,364,365,366,367,368,369,370,371,372,373,374,375,376,377,378,379,380,381,382,383,384,385,386,387,388,389,390,391,392,393,394,395,396,397,398,399,400,401,402,403,404,405,406,407,408,409,410,411,412,413,414,415,416,417,418,419,420,421,422,423,424,425,426,427,428,429,430,431,432,433,434,435,436,437,438,439,440,441,442,443,444,445,446,447,448,449,450,451,452,453,454,455,456,457,458,459,460,461,462,463,464,465,466,467,468,469,470,471,472,473,474,475,476,477,478,479,480,481,482,483,484,485,486,487,488,489,490,491,492,493,494,495,496,497,498,499,500,501,502,503,504,505,506,507,508,509,510,511,512,513,514,515,516,517,518,519,520,521,522,523,524,525,526,527,528,529,530,531,532,533,534,535,536,537,538,539,540,541,542,543,544,545,546,547,548,549,550,551,552,553,554,555,556,557,558,559,560,561,562,563,564,565,566,567,568,569,570,571,572,573,574,575,576,577,578,579,580,581,582,583,584,585,586,587,588,589,590,591,592,593,594,595,596,597,598,599,600,601,602,603,604,605,606,607,608,609,610,611,612,613,614,615,616,617,618,619,620,621,622,623,624,625,626,627,628,629,630,631,632,633,634,635,636,637,638,639,640,641,642,643,644,645,646,647,648,649,650,651,652,653,654,655,656,657,658,659,660,661,662,663,664,665,666,667,668,669,670,671,672,673,674,675,676,677,678,679,680,681,682,683,684,685,686,687,688,689,690,691,692,693,694,695,696,697,698,699,700,701,702,703,704,705,706,707,708,709,710,711,712,713,714,715,716,717,718,719,720,721,722,723,724,725,726,727,728,729,730,731,732,733,734,735,736,737) have mixed types.Specify dtype option on import or set low_memory=False.\n",
            "  exec(code_obj, self.user_global_ns, self.user_ns)\n",
            "/usr/local/lib/python3.7/dist-packages/IPython/core/interactiveshell.py:2882: DtypeWarning: Columns (837,838,839,840,841,842,843,844,845,846,847,848,849,850,851,852,853,854,855,856,857,858,859,860,861,862,863,864,865,866,867,868,869,870,871,872,873,874,875,876,877,878,879,880,881,882,883,884,885,886,887,888,889,890,891,892,893,894,895,896,897,898,899,900,901,902,903,904,905,906,907,908,909,910,911,912,913,914,915,916,917,918,919,920,921,922,923,924,925,926,927,928,929,930,931,932,933,934,935,936,937,938,939,940,941,942,943,944,945,946,947,948,949,950,951,952,953,954,955,956,957,958,959,960,961,962,963,964,965,966,967,968,969,970,971,972,973,974,975,976,977,978,979,980,981,982,983,984,985,986,987,988,989,990,991,992,993,994,995,996,997,998,999) have mixed types.Specify dtype option on import or set low_memory=False.\n",
            "  exec(code_obj, self.user_global_ns, self.user_ns)\n"
          ]
        }
      ]
    },
    {
      "cell_type": "code",
      "source": [
        "print(all_uni_dict)"
      ],
      "metadata": {
        "colab": {
          "base_uri": "https://localhost:8080/"
        },
        "id": "sqkSTHpHR006",
        "outputId": "a8e1a58d-6fd9-469f-f124-0cc0be3f89a5"
      },
      "execution_count": 149,
      "outputs": [
        {
          "output_type": "stream",
          "name": "stdout",
          "text": [
            "{'HarvardNC.csv': (0.25517241379310346, 0.10974125258799172, 0.36813031175073585, 0.2556390977443609, 0.15056095186587345, 0.3827161974895176), 'DartmouthNC.csv': (0.17721518987341772, 0.21054133333333333, 0.38710679270483256, 0.21804511278195488, 0.13500444444444445, 0.411258690304068), 'UnivPennsylvaniaNC.csv': (0.33159268929503916, 0.14081714285714286, 0.40219222924438014, 0.23743016759776536, 0.11459285714285715, 0.3819219867689617), 'clemsonunivNC.csv': (0.1792452830188679, 0.047364593301435415, 0.356750111891899, 0.08695652173913043, 0.060894193548387106, 0.3949127743200058), 'spartans.msuNC.csv': (0.1625, 0.10727984615384614, 0.3634599459171948, 0.0970873786407767, 0.14873045375218152, 0.34685345914080806), 'universityofutahNC.csv': (0.2660098522167488, 0.14478686046511627, 0.3659370558111391, 0.1476510067114094, 0.14496758620689654, 0.4028451496599139), 'StanfordNC.csv': (0.2358490566037736, 0.13672860215053764, 0.3705125512061256, 0.12359550561797752, 0.19776238738738738, 0.35972155805363487), 'UCSanDiegoNC.csv': (0.31226765799256506, 0.14042220670391062, 0.40700352025318215, 0.26515151515151514, 0.30189027690371306, 0.3751563380382665), 'UofWANC.csv': (0.3069908814589666, 0.1312768115942029, 0.37161923895078963, 0.22404371584699453, 0.03127030284301607, 0.4028666695356865), 'UConnNC.csv': (0.21875, 0.2620523809523809, 0.3958182216759774, 0.18596491228070175, 0.2031006756756757, 0.33216878494032614), 'PrincetonUNC.csv': (0.30039525691699603, 0.22574212721584982, 0.3687053656386639, 0.25, 0.2917582266009852, 0.41396867498730705), 'MITnewsNC.csv': (0.26153846153846155, 0.12455386680988186, 0.3897127118262205, 0.14634146341463414, 0.13283315789473685, 0.3979402673665761), 'UofMNNC.csv': (0.30434782608695654, 0.17332173913043478, 0.37074105501715926, 0.1836734693877551, 0.12103167701863354, 0.4008659072313551), 'universityoforegonNC.csv': (0.3375, 0.17515395095367844, 0.37855842202711554, 0.2358490566037736, 0.1540778110944528, 0.37153388079032407), 'uarizonaNC.csv': (0.24603174603174602, 0.09978988095238095, 0.37872593605359056, 0.4146341463414634, 0.10162513966480448, 0.34284719144022774), 'notredameNC.csv': (0.26993865030674846, 0.18149332369942198, 0.40655145802456666, 0.22377622377622378, 0.12343578174186778, 0.3937093923094793), 'universityofiowaNC.csv': (0.15384615384615385, 0.3188673716012085, 0.38847533297903497, 0.13253012048192772, 0.2978141779788839, 0.38674273567824113), 'universityofalabamaNC.csv': (0.45145631067961167, 0.07390229202037353, 0.3808496419730646, 0.23232323232323232, 0.20020794025157232, 0.3394790312132596), 'BYUNC.csv': (0.2682926829268293, 0.025278090943254422, 0.38156761590374055, 0.2857142857142857, 0.079994625, 0.40391999004581264), 'universityofgaNC.csv': (0.42788461538461536, 0.14088271062271063, 0.35952014241204694, 0.2617801047120419, 0.19346887417218542, 0.36777257363566423), 'txstateuNC.csv': (0.0847457627118644, 0.015164014466546112, 0.335318260345774, 0.17, 0.058837372262773725, 0.3281900396662895), 'KStateNC.csv': (0.32786885245901637, 0.12016125000000001, 0.3601567014834481, 0.20833333333333334, 0.2118833333333334, 0.31041406835601587), 'uofoklahomaNC.csv': (0.2222222222222222, 0.026816056034482758, 0.3766288746993384, 0.19298245614035087, 0.09611093951093952, 0.3664278542944704), 'KUNC.csv': (0.28837209302325584, 0.11016857825567505, 0.36655892506924304, 0.10655737704918032, 0.12946535947712418, 0.3523725270500554), 'BostonCollegeNC.csv': (0.21030042918454936, 0.2470306338028169, 0.4022122249329498, 0.12444444444444444, 0.12211106557377048, 0.388228331392218), 'IowaStateUNC.csv': (0.3473684210526316, 0.05299388523047977, 0.3449209784073567, 0.27058823529411763, 0.0768529268292683, 0.36286781830937337), 'tamuNC.csv': (0.12669683257918551, 0.0989737986270023, 0.38165387419894276, 0.1349206349206349, 0.06981220293724966, 0.359390463757559), 'PurdueUniversityNC.csv': (0.2924791086350975, 0.13163782505910165, 0.35576692135178917, 0.19525547445255476, 0.20462590132827324, 0.39664579199853595), 'RITfbNC.csv': (0.24129353233830847, 0.17555403288958496, 0.38298788608289125, 0.24883720930232558, 0.2181059399021663, 0.36885359398304285), 'virginiatechNC.csv': (0.4899598393574297, 0.16191587646802957, 0.3694269915238153, 0.2874493927125506, 0.04604731823599524, 0.3714652572660601), 'UniversityOfMichiganNC.csv': (0.38515901060070673, 0.0639828502415459, 0.3707573990851932, 0.2850467289719626, 0.03187680843329698, 0.3827521076550075), 'arizonastateuniversityNC.csv': (0.19727891156462585, 0.11562668539325843, 0.3774365256796211, 0.18911174785100288, 0.16311779497098644, 0.386292144274028), 'UTAustinTXNC.csv': (0.30412371134020616, 0.11425344995140914, 0.37674514142097143, 0.17582417582417584, 0.18019583333333336, 0.36572519114628693), 'georgiatechNC.csv': (0.3111111111111111, 0.27979187648456055, 0.3618064241895656, 0.11764705882352941, 0.26436642487046635, 0.38980653234020346), 'auburnuNC.csv': (0.33035714285714285, 0.06894626623376623, 0.40820425106398434, 0.2727272727272727, 0.04876703096539162, 0.3519918644356567), 'pennstateNC.csv': (0.28610354223433243, 0.09197456, 0.3721370781107499, 0.15966386554621848, 0.13213051409618573, 0.36400797363959175), 'UTKnoxvilleNC.csv': (0.23711340206185566, 0.08871785962473941, 0.36047118195035166, 0.15760869565217392, 0.16393711111111114, 0.3718739850189531), 'NYUNC.csv': (0.37407407407407406, 0.12760135275754422, 0.4101109537291311, 0.31528662420382164, -0.059573588146875675, 0.445859970124337), 'illinois.eduNC.csv': (0.3575418994413408, 0.23342430555555554, 0.3635972257238513, 0.12571428571428572, 0.13837128953771288, 0.3863020035030915), 'msstateNC.csv': (0.14210526315789473, 0.19898917910447764, 0.35735878903327134, 0.2099644128113879, 0.1354138067061144, 0.28518635349474786), 'cuboulderNC.csv': (0.446064139941691, 0.02828339410939691, 0.3854868181638658, 0.31683168316831684, -0.0015678378378378374, 0.3989452495026485), 'DukeUnivNC.csv': (0.21008403361344538, 0.2168076158940397, 0.38722151185934117, 0.14732142857142858, 0.07627109144542772, 0.3618105177944864), 'UCDavisNC.csv': (0.35797665369649806, 0.28581041055718476, 0.3566129864923907, 0.291970802919708, 0.26094565756823823, 0.3629792626465267), 'olemissNC.csv': (0.12264150943396226, 0.14746952380952383, 0.3319629335658998, 0.04522613065326633, 0.2207, 0.3067081611026295), 'BaylorUniversity1845NC.csv': (0.1393939393939394, 0.25616286836935165, 0.3564314576801443, 0.12085769980506822, 0.20890977375565611, 0.37201536512135375)}\n"
          ]
        }
      ]
    },
    {
      "cell_type": "markdown",
      "source": [
        "Total Number of Posts + Comments"
      ],
      "metadata": {
        "id": "BkmG7pLRe62J"
      }
    },
    {
      "cell_type": "code",
      "source": [
        "compiled_data, total_num_posts = compile_dataset(all_univs)\n",
        "print(total_num_posts)"
      ],
      "metadata": {
        "colab": {
          "base_uri": "https://localhost:8080/"
        },
        "id": "pEXzO6M0d53o",
        "outputId": "59134f94-61f1-498e-e904-2ac9ae451396"
      },
      "execution_count": null,
      "outputs": [
        {
          "output_type": "stream",
          "name": "stderr",
          "text": [
            "/usr/local/lib/python3.7/dist-packages/IPython/core/interactiveshell.py:2822: DtypeWarning: Columns (57,58,59,60,61,62,63,64,65,66,67,68,69,70,71,72,73,74,75,76,77,78,79,80,81,82,83,84,85,86,87,88,89,90,91,92,93,94,95,96,97,98,99,100,101,102,103,104,105,106,107,108,109,110,111,112,113,114,115,116,117,118,119,120,121,122,123,124,125,126,127,128,129,130,131,132,133,134,135,136,137,138,139,140,141,142,143,144,145,146,147,148,149,150,151,152,153,154,155,156,157,158,159,160,161,162,163,164,165,166,167,168,169,170,171,172,173,174,175,176,177,178,179,180,181,182,183,184,185,186,187,188,189,190,191,192,193,194,195,196,197,198,199,200,201,202,203,204,205,206,207,208,209,210,211,212,213,214,215,216,217,218,219,220,221,222,223,224,225,226,227,228,229,230,231,232,233,234,235,236,237,238,239,240,241,242,243,244,245,246,247,248,249,250,251,252,253,254,255,256,257,258,259,260,261,262,263,264,265,266,267,268,269,270,271,272,273,274,275,276,277,278,279,280,281,282,283,284,285,286,287,288,289,290,291,292,293,294,295,296,297,298,299,300,301,302,303,304,305,306,307,308,309,310,311,312,313,314,315,316,317,318,319,320,321,322,323,324,325,326,327,328,329,330,331,332,333,334,335,336,337,338,339,340,341,342,343,344,345,346,347,348,349,350,351,352,353,354,355,356,357,358,359,360,361,362,363,364,365,366,367,368,369,370,371,372,373,374,375,376,377,378,379,380,381,382,383,384,385,386,387,388,389,390,391,392,393,394,395,396,397,398,399,400,401,402,403,404,405,406,407,408,409,410,411,412,413,414,415,416,417,418,419,420,421,422,423,424,425,426,427,428,429,430,431,432,433,434,435,436,437,438,439,440,441,442,443,444,445,446,447,448,449,450,451,452,453,454,455,456,457,458,459,460,461,462,463,464,465,466,467,468,469,470,471,472,473,474,475,476,477,478,479,480,481,482,483,484,485,486,487,488,489,490,491,492,493,494,495,496,497,498,499,500,501,502,503,504,505,506,507,508,509,510,511,512,513,514,515,516,517,518,519,520,521,522,523,524,525,526,527,528,529,530,531,532,533,534,535,536,537,538,539,540,541,542,543,544,545,546,547,548,549,550,551,552,553,554,555,556,557,558,559,560,561,562,563,564,565,566,567,568,569,570,571,572,573,574,575,576,577,578,579,580,581,582,583,584,585,586,587,588,589,590,591,592,593,594,595,596,597,598,599,600,601,602,603,604,605,606,607,608,609,610,611,612,613,614,615,616,617,618,619,620,621,622,623,624,625,626,627,628,629,630,631,632,633,634,635,636,637,638,639,640,641,642,643,644,645,646,647,648,649,650,651,652,653,654,655,656,657,658,659,660,661,662,663,664,665,666,667,668,669,670,671,672,673,674,675,676,677,678,679,680,681,682,683,684,685,686,687,688,689,690,691,692,693,694,695,696,697,698,699,700,701,702,703,704,705,706,707,708,709,710,711,712,713,714,715,716,717,718,719,720,721,722,723,724,725,726,727,728,729,730,731,732,733,734,735,736,737) have mixed types.Specify dtype option on import or set low_memory=False.\n",
            "  if self.run_code(code, result):\n",
            "/usr/local/lib/python3.7/dist-packages/IPython/core/interactiveshell.py:2822: DtypeWarning: Columns (837,838,839,840,841,842,843,844,845,846,847,848,849,850,851,852,853,854,855,856,857,858,859,860,861,862,863,864,865,866,867,868,869,870,871,872,873,874,875,876,877,878,879,880,881,882,883,884,885,886,887,888,889,890,891,892,893,894,895,896,897,898,899,900,901,902,903,904,905,906,907,908,909,910,911,912,913,914,915,916,917,918,919,920,921,922,923,924,925,926,927,928,929,930,931,932,933,934,935,936,937,938,939,940,941,942,943,944,945,946,947,948,949,950,951,952,953,954,955,956,957,958,959,960,961,962,963,964,965,966,967,968,969,970,971,972,973,974,975,976,977,978,979,980,981,982,983,984,985,986,987,988,989,990,991,992,993,994,995,996,997,998,999) have mixed types.Specify dtype option on import or set low_memory=False.\n",
            "  if self.run_code(code, result):\n"
          ]
        },
        {
          "output_type": "stream",
          "name": "stdout",
          "text": [
            "28749\n"
          ]
        }
      ]
    },
    {
      "cell_type": "code",
      "source": [
        "def comment_counter(schools):\n",
        "  df, _ = compile_dataset(schools)\n",
        "  df, tp = get_posts_by_period(df, \"2020-7-1\", \"2020-12-31\")\n",
        "  df = df[df.iloc[:, 0].str.contains(reopening_keywords, case=False)]\n",
        "  print(df.shape[0]/tp * 100)\n",
        "  comment_count = 0\n",
        "  for rowIndex, row in df.iterrows():\n",
        "    for columnIndex, value in row.items():\n",
        "          if value != '':\n",
        "              comment_count += 1\n",
        "  print(comment_count)"
      ],
      "metadata": {
        "id": "a_SxjEsxfsl6"
      },
      "execution_count": null,
      "outputs": []
    },
    {
      "cell_type": "code",
      "source": [
        "comment_counter(online_f)\n",
        "comment_counter(hybrid_f)\n",
        "comment_counter(in_person_f)"
      ],
      "metadata": {
        "colab": {
          "base_uri": "https://localhost:8080/"
        },
        "id": "X7Jp-wpXh7ou",
        "outputId": "e246271a-e77c-4f75-b62b-8613f408cb5b"
      },
      "execution_count": null,
      "outputs": [
        {
          "output_type": "stream",
          "name": "stdout",
          "text": [
            "2.1551724137931036\n",
            "695\n"
          ]
        },
        {
          "output_type": "stream",
          "name": "stderr",
          "text": [
            "/usr/local/lib/python3.7/dist-packages/IPython/core/interactiveshell.py:2882: DtypeWarning: Columns (57,58,59,60,61,62,63,64,65,66,67,68,69,70,71,72,73,74,75,76,77,78,79,80,81,82,83,84,85,86,87,88,89,90,91,92,93,94,95,96,97,98,99,100,101,102,103,104,105,106,107,108,109,110,111,112,113,114,115,116,117,118,119,120,121,122,123,124,125,126,127,128,129,130,131,132,133,134,135,136,137,138,139,140,141,142,143,144,145,146,147,148,149,150,151,152,153,154,155,156,157,158,159,160,161,162,163,164,165,166,167,168,169,170,171,172,173,174,175,176,177,178,179,180,181,182,183,184,185,186,187,188,189,190,191,192,193,194,195,196,197,198,199,200,201,202,203,204,205,206,207,208,209,210,211,212,213,214,215,216,217,218,219,220,221,222,223,224,225,226,227,228,229,230,231,232,233,234,235,236,237,238,239,240,241,242,243,244,245,246,247,248,249,250,251,252,253,254,255,256,257,258,259,260,261,262,263,264,265,266,267,268,269,270,271,272,273,274,275,276,277,278,279,280,281,282,283,284,285,286,287,288,289,290,291,292,293,294,295,296,297,298,299,300,301,302,303,304,305,306,307,308,309,310,311,312,313,314,315,316,317,318,319,320,321,322,323,324,325,326,327,328,329,330,331,332,333,334,335,336,337,338,339,340,341,342,343,344,345,346,347,348,349,350,351,352,353,354,355,356,357,358,359,360,361,362,363,364,365,366,367,368,369,370,371,372,373,374,375,376,377,378,379,380,381,382,383,384,385,386,387,388,389,390,391,392,393,394,395,396,397,398,399,400,401,402,403,404,405,406,407,408,409,410,411,412,413,414,415,416,417,418,419,420,421,422,423,424,425,426,427,428,429,430,431,432,433,434,435,436,437,438,439,440,441,442,443,444,445,446,447,448,449,450,451,452,453,454,455,456,457,458,459,460,461,462,463,464,465,466,467,468,469,470,471,472,473,474,475,476,477,478,479,480,481,482,483,484,485,486,487,488,489,490,491,492,493,494,495,496,497,498,499,500,501,502,503,504,505,506,507,508,509,510,511,512,513,514,515,516,517,518,519,520,521,522,523,524,525,526,527,528,529,530,531,532,533,534,535,536,537,538,539,540,541,542,543,544,545,546,547,548,549,550,551,552,553,554,555,556,557,558,559,560,561,562,563,564,565,566,567,568,569,570,571,572,573,574,575,576,577,578,579,580,581,582,583,584,585,586,587,588,589,590,591,592,593,594,595,596,597,598,599,600,601,602,603,604,605,606,607,608,609,610,611,612,613,614,615,616,617,618,619,620,621,622,623,624,625,626,627,628,629,630,631,632,633,634,635,636,637,638,639,640,641,642,643,644,645,646,647,648,649,650,651,652,653,654,655,656,657,658,659,660,661,662,663,664,665,666,667,668,669,670,671,672,673,674,675,676,677,678,679,680,681,682,683,684,685,686,687,688,689,690,691,692,693,694,695,696,697,698,699,700,701,702,703,704,705,706,707,708,709,710,711,712,713,714,715,716,717,718,719,720,721,722,723,724,725,726,727,728,729,730,731,732,733,734,735,736,737) have mixed types.Specify dtype option on import or set low_memory=False.\n",
            "  exec(code_obj, self.user_global_ns, self.user_ns)\n",
            "/usr/local/lib/python3.7/dist-packages/IPython/core/interactiveshell.py:2882: DtypeWarning: Columns (837,838,839,840,841,842,843,844,845,846,847,848,849,850,851,852,853,854,855,856,857,858,859,860,861,862,863,864,865,866,867,868,869,870,871,872,873,874,875,876,877,878,879,880,881,882,883,884,885,886,887,888,889,890,891,892,893,894,895,896,897,898,899,900,901,902,903,904,905,906,907,908,909,910,911,912,913,914,915,916,917,918,919,920,921,922,923,924,925,926,927,928,929,930,931,932,933,934,935,936,937,938,939,940,941,942,943,944,945,946,947,948,949,950,951,952,953,954,955,956,957,958,959,960,961,962,963,964,965,966,967,968,969,970,971,972,973,974,975,976,977,978,979,980,981,982,983,984,985,986,987,988,989,990,991,992,993,994,995,996,997,998,999) have mixed types.Specify dtype option on import or set low_memory=False.\n",
            "  exec(code_obj, self.user_global_ns, self.user_ns)\n"
          ]
        },
        {
          "output_type": "stream",
          "name": "stdout",
          "text": [
            "1.8857142857142857\n",
            "780\n",
            "1.1644318983768525\n",
            "1062\n"
          ]
        }
      ]
    },
    {
      "cell_type": "markdown",
      "metadata": {
        "id": "PprT4vCqV-SR"
      },
      "source": [
        "Emotional Intensity of COVID vs Non-COVID Posts"
      ]
    },
    {
      "cell_type": "code",
      "metadata": {
        "id": "ra4diJ9EP0P3"
      },
      "source": [
        "# Get sentiment for non-COVID posts for the entire academic year\n",
        "non_covid_data = compiled_data[~compiled_data.iloc[:, 0].str.contains(covid_keywords, case=False)]\n",
        "non_covid_data, total_num_posts = get_posts_by_period(non_covid_data, \"2020-7-1\", \"2021-6-30\")\n",
        "print(total_num_posts)"
      ],
      "execution_count": null,
      "outputs": []
    },
    {
      "cell_type": "code",
      "metadata": {
        "id": "5babAzQ1AhoK"
      },
      "source": [
        "# Get sentiment for COVID posts\n",
        "covid_data = compiled_data[compiled_data.iloc[:, 0].str.contains(covid_keywords, case=False)]\n",
        "covid_data, total_num_posts = get_posts_by_period(covid_data, \"2020-7-1\", \"2021-6-30\")\n",
        "print(total_num_posts)"
      ],
      "execution_count": null,
      "outputs": []
    },
    {
      "cell_type": "code",
      "metadata": {
        "colab": {
          "base_uri": "https://localhost:8080/"
        },
        "id": "BimScqFTxEeH",
        "outputId": "bbbf2fe4-e3ae-4b57-f49b-791fc97c3269"
      },
      "source": [
        "# Non-Covid Fall\n",
        "non_covid_f, total_num_posts = get_posts_by_period(non_covid_data, \"2020-6-1\", \"2020-12-31\")\n",
        "non_covid_comments = get_comments_only(non_covid_f)\n",
        "non_cov_df_f = analyze_sentiment(non_covid_comments)\n",
        "non_cov_mean, non_cov_stdev = sentiment_stats(non_cov_df_f)\n",
        "print(non_cov_mean)\n",
        "print(non_cov_stdev)\n",
        "\n",
        "# Non-Covid Spring\n",
        "non_covid_s, total_num_posts = get_posts_by_period(non_covid_data, \"2021-1-1\", \"2021-7-1\")\n",
        "non_covid_comments = get_comments_only(non_covid_s)\n",
        "non_cov_df_s = analyze_sentiment(non_covid_comments)\n",
        "non_cov_mean, non_cov_stdev = sentiment_stats(non_cov_df_s)\n",
        "print(non_cov_mean)\n",
        "print(non_cov_stdev)"
      ],
      "execution_count": null,
      "outputs": [
        {
          "output_type": "stream",
          "name": "stdout",
          "text": [
            "0.18948232638513876\n",
            "0.37628599817338926\n",
            "0.2286994953330731\n",
            "0.3865727825695245\n"
          ]
        }
      ]
    },
    {
      "cell_type": "code",
      "metadata": {
        "colab": {
          "base_uri": "https://localhost:8080/"
        },
        "id": "1Oc7jL_Yzx-2",
        "outputId": "85016c3b-fbc2-4dac-edeb-c4b95bfa61b0"
      },
      "source": [
        "# Covid Fall\n",
        "covid_f, total_num_posts = get_posts_by_period(covid_data, \"2020-6-1\", \"2020-12-31\")\n",
        "covid_comments = get_comments_only(covid_f)\n",
        "cov_df_f = analyze_sentiment(covid_comments)\n",
        "cov_mean, cov_stdev = sentiment_stats(cov_df_f)\n",
        "print(cov_mean)\n",
        "print(cov_stdev)\n",
        "\n",
        "# Covid Spring\n",
        "covid_s, total_num_posts = get_posts_by_period(covid_data, \"2021-1-1\", \"2021-7-1\")\n",
        "covid_comments = get_comments_only(covid_s)\n",
        "cov_df_s = analyze_sentiment(covid_comments)\n",
        "cov_mean, cov_stdev = sentiment_stats(cov_df_s)\n",
        "print(cov_mean)\n",
        "print(cov_stdev)"
      ],
      "execution_count": null,
      "outputs": [
        {
          "output_type": "stream",
          "name": "stdout",
          "text": [
            "0.12545866407159198\n",
            "0.38426206618312037\n",
            "0.11395777512226428\n",
            "0.3971588062987235\n"
          ]
        }
      ]
    },
    {
      "cell_type": "code",
      "source": [
        "# determining whether the data meets the conditions for an Indpendent T-Test\n",
        "from scipy import stats\n",
        "\n",
        "# Shapiro-Wilk test for normality\n",
        "print(stats.shapiro(non_cov_df_f['compound']))\n",
        "print(stats.shapiro(cov_df_f['compound']))\n",
        "print(stats.shapiro(non_cov_df_s['compound']))\n",
        "print(stats.shapiro(cov_df_s['compound']))"
      ],
      "metadata": {
        "colab": {
          "base_uri": "https://localhost:8080/"
        },
        "id": "Ox1Zsqiqmynz",
        "outputId": "88c1739a-77be-40ff-a83b-3a91d3dede96"
      },
      "execution_count": null,
      "outputs": [
        {
          "output_type": "stream",
          "name": "stdout",
          "text": [
            "(0.8996303081512451, 0.0)\n",
            "(0.9303734302520752, 0.0)\n",
            "(0.8993701934814453, 0.0)\n",
            "(0.9303643107414246, 0.0)\n"
          ]
        },
        {
          "output_type": "stream",
          "name": "stderr",
          "text": [
            "/usr/local/lib/python3.7/dist-packages/scipy/stats/morestats.py:1676: UserWarning: p-value may not be accurate for N > 5000.\n",
            "  warnings.warn(\"p-value may not be accurate for N > 5000.\")\n"
          ]
        }
      ]
    },
    {
      "cell_type": "code",
      "source": [
        "# non-gaussian data: non-parametric statistical analysis required\n",
        "\n",
        "# Mann-Whitney U Test\n",
        "print(stats.mannwhitneyu(non_cov_df_f['compound'], cov_df_f['compound']))\n",
        "print(stats.mannwhitneyu(non_cov_df_s['compound'], cov_df_s['compound']))"
      ],
      "metadata": {
        "colab": {
          "base_uri": "https://localhost:8080/"
        },
        "id": "rs_g6fqG3dWw",
        "outputId": "822b2ebf-102c-41bf-a7f7-1c47ff773c5a"
      },
      "execution_count": null,
      "outputs": [
        {
          "output_type": "stream",
          "name": "stdout",
          "text": [
            "MannwhitneyuResult(statistic=3165477513.0, pvalue=9.914071659289235e-196)\n",
            "MannwhitneyuResult(statistic=2688790291.0, pvalue=0.0)\n"
          ]
        }
      ]
    },
    {
      "cell_type": "code",
      "source": [
        "# confidence intervals for means\n",
        "def get_conf(df):\n",
        "  sentiment_scores = df['compound'].tolist()\n",
        "  mean = np.mean(sentiment_scores)\n",
        "  conf_int = st.norm.interval(alpha=0.95, loc=mean, scale=st.sem(sentiment_scores))\n",
        "  print((conf_int[1] - conf_int[0]))\n",
        "\n",
        "get_conf(non_cov_df_f)\n",
        "get_conf(non_cov_df_s)\n",
        "get_conf(cov_df_f)\n",
        "get_conf(cov_df_s)"
      ],
      "metadata": {
        "colab": {
          "base_uri": "https://localhost:8080/"
        },
        "id": "R4h11F-r8mxz",
        "outputId": "897bd812-59be-4c30-e76e-98c9fa3b56f4"
      },
      "execution_count": null,
      "outputs": [
        {
          "output_type": "stream",
          "name": "stdout",
          "text": [
            "0.003957947569718234\n",
            "0.00403718381249446\n",
            "0.006747294317782079\n",
            "0.007323702990219644\n"
          ]
        }
      ]
    },
    {
      "cell_type": "code",
      "metadata": {
        "colab": {
          "base_uri": "https://localhost:8080/",
          "height": 282
        },
        "id": "6HPplzVLwHVM",
        "outputId": "074f2b3c-9cbb-46c3-8187-9ec5206c43ff"
      },
      "source": [
        "import matplotlib.pyplot as plt\n",
        "\n",
        "# set width of bars\n",
        "barWidth = 0.35\n",
        " \n",
        "# set heights of bars (mean)\n",
        "bars2 = [0.18948232638513876, 0.12545866407159198]\n",
        "bars3 = [0.2286994953330731, 0.11395777512226428]\n",
        " \n",
        "# Set position of bar on X axis\n",
        "r1 = np.arange(len(bars2))\n",
        "r2 = [x + barWidth for x in r1]\n",
        " \n",
        "# Make the plot (error bars = confidence interval)\n",
        "plt.bar(r1, bars2, yerr=[0.003957947569718234, 0.006747294317782079], color='#7f6d5f', width=barWidth, edgecolor='white', label='Fall 2020')\n",
        "plt.bar(r2, bars3, yerr=[0.00403718381249446, 0.007323702990219644], color='#2d7f5e', width=barWidth, edgecolor='white', label='Spring 2021')\n",
        " \n",
        "# Add xticks on the middle of the group bars\n",
        "plt.xticks([r + barWidth - 0.175 for r in range(len(bars2))], ['Non-Covid-Related Posts', 'Covid-Related Posts'])\n",
        "plt.ylabel('Mean Comment Sentiment')\n",
        "\n",
        "# Create legend & Show graphic\n",
        "plt.legend()"
      ],
      "execution_count": null,
      "outputs": [
        {
          "output_type": "execute_result",
          "data": {
            "text/plain": [
              "<matplotlib.legend.Legend at 0x7f6b84d08390>"
            ]
          },
          "metadata": {},
          "execution_count": 66
        },
        {
          "output_type": "display_data",
          "data": {
            "image/png": "[encoded data removed]",
            "text/plain": [
              "<Figure size 432x288 with 1 Axes>"
            ]
          },
          "metadata": {
            "needs_background": "light"
          }
        }
      ]
    },
    {
      "cell_type": "code",
      "source": [
        "# Generate data distribution combining 3 normal distributions\n",
        "data = np.array(non_cov_df_f['compound'])\n",
        "\n",
        "# The x values corresponding to the generated distribution\n",
        "x = np.linspace(data.min(),data.max(), data.shape[0])"
      ],
      "metadata": {
        "id": "qkJWht0ZrYl8"
      },
      "execution_count": null,
      "outputs": []
    },
    {
      "cell_type": "code",
      "source": [
        "# compound score distributions\n",
        "import matplotlib.pyplot as plt\n",
        "x = ip_df_s['compound']\n",
        "plt.hist(x, bins = 10)\n",
        "plt.xlabel('VADER Sentiment Score')\n",
        "plt.ylabel('Number of Posts')\n",
        "plt.show()"
      ],
      "metadata": {
        "colab": {
          "base_uri": "https://localhost:8080/",
          "height": 279
        },
        "id": "Dydxf7AyQO8n",
        "outputId": "d21fcc9f-9b75-4c3e-ef04-04259c422046"
      },
      "execution_count": null,
      "outputs": [
        {
          "output_type": "display_data",
          "data": {
            "image/png": "[encoded data removed]",
            "text/plain": [
              "<Figure size 432x288 with 1 Axes>"
            ]
          },
          "metadata": {
            "needs_background": "light"
          }
        }
      ]
    },
    {
      "cell_type": "markdown",
      "metadata": {
        "id": "AisMO-zZXiEl"
      },
      "source": [
        "Sentiment Based On Policy"
      ]
    },
    {
      "cell_type": "code",
      "source": [
        "# dict of the sentiment stats for all universities in the form \"university_name\" : fall_pc, fall_mean, fall_stdev,  spring_pc, spring_mean, spring_stdev\n",
        "# note that pc refers to the percentage of posts about coronavirus\n",
        "all_uni_stats = {'HarvardNC.csv': (0.25517241379310346, 0.10974125258799172, 0.36813031175073585, 0.2556390977443609, 0.15056095186587345, 0.3827161974895176), 'DartmouthNC.csv': (0.17721518987341772, 0.21054133333333333, 0.38710679270483256, 0.21804511278195488, 0.13500444444444445, 0.411258690304068), 'UnivPennsylvaniaNC.csv': (0.33159268929503916, 0.14081714285714286, 0.40219222924438014, 0.23743016759776536, 0.11459285714285715, 0.3819219867689617), 'clemsonunivNC.csv': (0.1792452830188679, 0.047364593301435415, 0.356750111891899, 0.08695652173913043, 0.060894193548387106, 0.3949127743200058), 'spartans.msuNC.csv': (0.1625, 0.10727984615384614, 0.3634599459171948, 0.0970873786407767, 0.14873045375218152, 0.34685345914080806), 'universityofutahNC.csv': (0.2660098522167488, 0.14478686046511627, 0.3659370558111391, 0.1476510067114094, 0.14496758620689654, 0.4028451496599139), 'StanfordNC.csv': (0.2358490566037736, 0.13672860215053764, 0.3705125512061256, 0.12359550561797752, 0.19776238738738738, 0.35972155805363487), 'UCSanDiegoNC.csv': (0.31226765799256506, 0.14042220670391062, 0.40700352025318215, 0.26515151515151514, 0.30189027690371306, 0.3751563380382665), 'UofWANC.csv': (0.3069908814589666, 0.1312768115942029, 0.37161923895078963, 0.22404371584699453, 0.03127030284301607, 0.4028666695356865), 'UConnNC.csv': (0.21875, 0.2620523809523809, 0.3958182216759774, 0.18596491228070175, 0.2031006756756757, 0.33216878494032614), 'PrincetonUNC.csv': (0.30039525691699603, 0.22574212721584982, 0.3687053656386639, 0.25, 0.2917582266009852, 0.41396867498730705), 'MITnewsNC.csv': (0.26153846153846155, 0.12455386680988186, 0.3897127118262205, 0.14634146341463414, 0.13283315789473685, 0.3979402673665761), 'UofMNNC.csv': (0.30434782608695654, 0.17332173913043478, 0.37074105501715926, 0.1836734693877551, 0.12103167701863354, 0.4008659072313551), 'universityoforegonNC.csv': (0.3375, 0.17515395095367844, 0.37855842202711554, 0.2358490566037736, 0.1540778110944528, 0.37153388079032407), 'uarizonaNC.csv': (0.24603174603174602, 0.09978988095238095, 0.37872593605359056, 0.4146341463414634, 0.10162513966480448, 0.34284719144022774), 'notredameNC.csv': (0.26993865030674846, 0.18149332369942198, 0.40655145802456666, 0.22377622377622378, 0.12343578174186778, 0.3937093923094793), 'universityofiowaNC.csv': (0.15384615384615385, 0.3188673716012085, 0.38847533297903497, 0.13253012048192772, 0.2978141779788839, 0.38674273567824113), 'universityofalabamaNC.csv': (0.45145631067961167, 0.07390229202037353, 0.3808496419730646, 0.23232323232323232, 0.20020794025157232, 0.3394790312132596), 'BYUNC.csv': (0.2682926829268293, 0.025278090943254422, 0.38156761590374055, 0.2857142857142857, 0.079994625, 0.40391999004581264), 'universityofgaNC.csv': (0.42788461538461536, 0.14088271062271063, 0.35952014241204694, 0.2617801047120419, 0.19346887417218542, 0.36777257363566423), 'txstateuNC.csv': (0.0847457627118644, 0.015164014466546112, 0.335318260345774, 0.17, 0.058837372262773725, 0.3281900396662895), 'KStateNC.csv': (0.32786885245901637, 0.12016125000000001, 0.3601567014834481, 0.20833333333333334, 0.2118833333333334, 0.31041406835601587), 'uofoklahomaNC.csv': (0.2222222222222222, 0.026816056034482758, 0.3766288746993384, 0.19298245614035087, 0.09611093951093952, 0.3664278542944704), 'KUNC.csv': (0.28837209302325584, 0.11016857825567505, 0.36655892506924304, 0.10655737704918032, 0.12946535947712418, 0.3523725270500554), 'BostonCollegeNC.csv': (0.21030042918454936, 0.2470306338028169, 0.4022122249329498, 0.12444444444444444, 0.12211106557377048, 0.388228331392218), 'IowaStateUNC.csv': (0.3473684210526316, 0.05299388523047977, 0.3449209784073567, 0.27058823529411763, 0.0768529268292683, 0.36286781830937337), 'tamuNC.csv': (0.12669683257918551, 0.0989737986270023, 0.38165387419894276, 0.1349206349206349, 0.06981220293724966, 0.359390463757559), 'PurdueUniversityNC.csv': (0.2924791086350975, 0.13163782505910165, 0.35576692135178917, 0.19525547445255476, 0.20462590132827324, 0.39664579199853595), 'RITfbNC.csv': (0.24129353233830847, 0.17555403288958496, 0.38298788608289125, 0.24883720930232558, 0.2181059399021663, 0.36885359398304285), 'virginiatechNC.csv': (0.4899598393574297, 0.16191587646802957, 0.3694269915238153, 0.2874493927125506, 0.04604731823599524, 0.3714652572660601), 'UniversityOfMichiganNC.csv': (0.38515901060070673, 0.0639828502415459, 0.3707573990851932, 0.2850467289719626, 0.03187680843329698, 0.3827521076550075), 'arizonastateuniversityNC.csv': (0.19727891156462585, 0.11562668539325843, 0.3774365256796211, 0.18911174785100288, 0.16311779497098644, 0.386292144274028), 'UTAustinTXNC.csv': (0.30412371134020616, 0.11425344995140914, 0.37674514142097143, 0.17582417582417584, 0.18019583333333336, 0.36572519114628693), 'georgiatechNC.csv': (0.3111111111111111, 0.27979187648456055, 0.3618064241895656, 0.11764705882352941, 0.26436642487046635, 0.38980653234020346), 'auburnuNC.csv': (0.33035714285714285, 0.06894626623376623, 0.40820425106398434, 0.2727272727272727, 0.04876703096539162, 0.3519918644356567), 'pennstateNC.csv': (0.28610354223433243, 0.09197456, 0.3721370781107499, 0.15966386554621848, 0.13213051409618573, 0.36400797363959175), 'UTKnoxvilleNC.csv': (0.23711340206185566, 0.08871785962473941, 0.36047118195035166, 0.15760869565217392, 0.16393711111111114, 0.3718739850189531), 'NYUNC.csv': (0.37407407407407406, 0.12760135275754422, 0.4101109537291311, 0.31528662420382164, -0.059573588146875675, 0.445859970124337), 'illinois.eduNC.csv': (0.3575418994413408, 0.23342430555555554, 0.3635972257238513, 0.12571428571428572, 0.13837128953771288, 0.3863020035030915), 'msstateNC.csv': (0.14210526315789473, 0.19898917910447764, 0.35735878903327134, 0.2099644128113879, 0.1354138067061144, 0.28518635349474786), 'cuboulderNC.csv': (0.446064139941691, 0.02828339410939691, 0.3854868181638658, 0.31683168316831684, -0.0015678378378378374, 0.3989452495026485), 'DukeUnivNC.csv': (0.21008403361344538, 0.2168076158940397, 0.38722151185934117, 0.14732142857142858, 0.07627109144542772, 0.3618105177944864), 'UCDavisNC.csv': (0.35797665369649806, 0.28581041055718476, 0.3566129864923907, 0.291970802919708, 0.26094565756823823, 0.3629792626465267), 'olemissNC.csv': (0.12264150943396226, 0.14746952380952383, 0.3319629335658998, 0.04522613065326633, 0.2207, 0.3067081611026295), 'BaylorUniversity1845NC.csv': (0.1393939393939394, 0.25616286836935165, 0.3564314576801443, 0.12085769980506822, 0.20890977375565611, 0.37201536512135375)}"
      ],
      "metadata": {
        "id": "ukb7h-DbUZnK"
      },
      "execution_count": null,
      "outputs": []
    },
    {
      "cell_type": "code",
      "source": [
        "def get_mean_sent(school_list, fall):\n",
        "  mean_sum = 0\n",
        "  for school in school_list:\n",
        "    if fall:\n",
        "      mean_sum += all_uni_stats[school][1]\n",
        "    else:\n",
        "      mean_sum += all_uni_stats[school][4]\n",
        "  print(mean_sum / len(school_list))\n",
        "\n",
        "get_mean_sent(online_f, True)\n",
        "get_mean_sent(online_s, False)\n",
        "get_mean_sent(in_person_f, True)\n",
        "get_mean_sent(in_person_s, False)\n",
        "get_mean_sent(hybrid_f, True)\n",
        "get_mean_sent(hybrid_s, False)"
      ],
      "metadata": {
        "colab": {
          "base_uri": "https://localhost:8080/"
        },
        "id": "idFh9E6xVGVd",
        "outputId": "0412dd9b-d91b-4af6-fb1f-324825d34f19"
      },
      "execution_count": null,
      "outputs": [
        {
          "output_type": "stream",
          "name": "stdout",
          "text": [
            "0.14863817301080823\n",
            "0.14902915144151838\n",
            "0.12538931598137923\n",
            "0.1556572923022285\n",
            "0.15452281320575695\n",
            "0.11488398188577653\n"
          ]
        }
      ]
    },
    {
      "cell_type": "code",
      "metadata": {
        "id": "rSqszFrbnDey",
        "colab": {
          "base_uri": "https://localhost:8080/"
        },
        "outputId": "d4988da7-8fa7-4a08-dad8-6441df417e79"
      },
      "source": [
        "# Online\n",
        "# rm_pc, rm_mean, rm_stdev, rm_df = compile_filter_analyze(remote, False, False)\n",
        "rm_pc_f, rm_mean_f, rm_stdev_f, rm_df_f = compile_filter_analyze(online_f, True, False)\n",
        "rm_pc_s, rm_mean_s, rm_stdev_s, rm_df_s = compile_filter_analyze(online_s, False, True)\n",
        "\n",
        "# In Person\n",
        "# ip_pc, ip_mean, ip_stdev, ip_df = compile_filter_analyze(in_person, False, False)\n",
        "ip_pc_f, ip_mean_f, ip_stdev_f, ip_df_f = compile_filter_analyze(in_person_f, True, False)\n",
        "ip_pc_s, ip_mean_s, ip_stdev_s,ip_df_s = compile_filter_analyze(in_person_s, False, True)\n",
        "\n",
        "# Hybrid\n",
        "# hb_pc, hb_mean, hb_stdev, hb_df = compile_filter_analyze(hybrid, False, False)\n",
        "hb_pc_f, hb_mean_f, hb_stdev_f, hb_df_f = compile_filter_analyze(hybrid_f, True, False)\n",
        "hb_pc_s, hb_mean_s, hb_stdev_s, hb_df_s = compile_filter_analyze(hybrid_s, False, True)"
      ],
      "execution_count": null,
      "outputs": [
        {
          "output_type": "stream",
          "name": "stderr",
          "text": [
            "/usr/local/lib/python3.7/dist-packages/IPython/core/interactiveshell.py:2882: DtypeWarning: Columns (837,838,839,840,841,842,843,844,845,846,847,848,849,850,851,852,853,854,855,856,857,858,859,860,861,862,863,864,865,866,867,868,869,870,871,872,873,874,875,876,877,878,879,880,881,882,883,884,885,886,887,888,889,890,891,892,893,894,895,896,897,898,899,900,901,902,903,904,905,906,907,908,909,910,911,912,913,914,915,916,917,918,919,920,921,922,923,924,925,926,927,928,929,930,931,932,933,934,935,936,937,938,939,940,941,942,943,944,945,946,947,948,949,950,951,952,953,954,955,956,957,958,959,960,961,962,963,964,965,966,967,968,969,970,971,972,973,974,975,976,977,978,979,980,981,982,983,984,985,986,987,988,989,990,991,992,993,994,995,996,997,998,999) have mixed types.Specify dtype option on import or set low_memory=False.\n",
            "  exec(code_obj, self.user_global_ns, self.user_ns)\n",
            "/usr/local/lib/python3.7/dist-packages/IPython/core/interactiveshell.py:2882: DtypeWarning: Columns (57,58,59,60,61,62,63,64,65,66,67,68,69,70,71,72,73,74,75,76,77,78,79,80,81,82,83,84,85,86,87,88,89,90,91,92,93,94,95,96,97,98,99,100,101,102,103,104,105,106,107,108,109,110,111,112,113,114,115,116,117,118,119,120,121,122,123,124,125,126,127,128,129,130,131,132,133,134,135,136,137,138,139,140,141,142,143,144,145,146,147,148,149,150,151,152,153,154,155,156,157,158,159,160,161,162,163,164,165,166,167,168,169,170,171,172,173,174,175,176,177,178,179,180,181,182,183,184,185,186,187,188,189,190,191,192,193,194,195,196,197,198,199,200,201,202,203,204,205,206,207,208,209,210,211,212,213,214,215,216,217,218,219,220,221,222,223,224,225,226,227,228,229,230,231,232,233,234,235,236,237,238,239,240,241,242,243,244,245,246,247,248,249,250,251,252,253,254,255,256,257,258,259,260,261,262,263,264,265,266,267,268,269,270,271,272,273,274,275,276,277,278,279,280,281,282,283,284,285,286,287,288,289,290,291,292,293,294,295,296,297,298,299,300,301,302,303,304,305,306,307,308,309,310,311,312,313,314,315,316,317,318,319,320,321,322,323,324,325,326,327,328,329,330,331,332,333,334,335,336,337,338,339,340,341,342,343,344,345,346,347,348,349,350,351,352,353,354,355,356,357,358,359,360,361,362,363,364,365,366,367,368,369,370,371,372,373,374,375,376,377,378,379,380,381,382,383,384,385,386,387,388,389,390,391,392,393,394,395,396,397,398,399,400,401,402,403,404,405,406,407,408,409,410,411,412,413,414,415,416,417,418,419,420,421,422,423,424,425,426,427,428,429,430,431,432,433,434,435,436,437,438,439,440,441,442,443,444,445,446,447,448,449,450,451,452,453,454,455,456,457,458,459,460,461,462,463,464,465,466,467,468,469,470,471,472,473,474,475,476,477,478,479,480,481,482,483,484,485,486,487,488,489,490,491,492,493,494,495,496,497,498,499,500,501,502,503,504,505,506,507,508,509,510,511,512,513,514,515,516,517,518,519,520,521,522,523,524,525,526,527,528,529,530,531,532,533,534,535,536,537,538,539,540,541,542,543,544,545,546,547,548,549,550,551,552,553,554,555,556,557,558,559,560,561,562,563,564,565,566,567,568,569,570,571,572,573,574,575,576,577,578,579,580,581,582,583,584,585,586,587,588,589,590,591,592,593,594,595,596,597,598,599,600,601,602,603,604,605,606,607,608,609,610,611,612,613,614,615,616,617,618,619,620,621,622,623,624,625,626,627,628,629,630,631,632,633,634,635,636,637,638,639,640,641,642,643,644,645,646,647,648,649,650,651,652,653,654,655,656,657,658,659,660,661,662,663,664,665,666,667,668,669,670,671,672,673,674,675,676,677,678,679,680,681,682,683,684,685,686,687,688,689,690,691,692,693,694,695,696,697,698,699,700,701,702,703,704,705,706,707,708,709,710,711,712,713,714,715,716,717,718,719,720,721,722,723,724,725,726,727,728,729,730,731,732,733,734,735,736,737) have mixed types.Specify dtype option on import or set low_memory=False.\n",
            "  exec(code_obj, self.user_global_ns, self.user_ns)\n"
          ]
        }
      ]
    },
    {
      "cell_type": "code",
      "source": [
        "# print(\"Remote: \", rm_pc, rm_mean, rm_stdev)\n",
        "print(\"Remote Fall: \", rm_pc_f, rm_mean_f, rm_stdev_f)\n",
        "print(\"Remote Spring: \", rm_pc_s, rm_mean_s, rm_stdev_s)\n",
        "# print(\"In-Person:\", ip_pc, ip_mean, ip_stdev)\n",
        "print(\"In-Person Fall: \", ip_pc_f, ip_mean_f, ip_stdev_f)\n",
        "print(\"In-Person Spring: \", ip_pc_s, ip_mean_s, ip_stdev_s)\n",
        "# print(\"Hybrid: \", hb_pc, hb_mean, hb_stdev)\n",
        "print(\"Hybrid Fall: \", hb_pc_f, hb_mean_f, hb_stdev_f)\n",
        "print(\"Hybrid Spring: \", hb_pc_s, hb_mean_s, hb_stdev_s)"
      ],
      "metadata": {
        "colab": {
          "base_uri": "https://localhost:8080/"
        },
        "id": "Tl_MiyOaa7Cx",
        "outputId": "8123e21e-f5f1-48c5-d889-0f3d9d29904a"
      },
      "execution_count": null,
      "outputs": [
        {
          "output_type": "stream",
          "name": "stdout",
          "text": [
            "Remote Fall:  0.278759586528843 0.1337470428851724 0.37934865281529395\n",
            "Remote Spring:  0.23410041841004184 0.1155981797024354 0.41452103924979217\n",
            "In-Person Fall:  0.28846792954469924 0.11973708184120885 0.3853763022783733\n",
            "In-Person Spring:  0.17847317744154056 0.14829348524080788 0.37304133796980965\n",
            "Hybrid Fall:  0.28812177222071217 0.12536128505570496 0.3851549127339704\n",
            "Hybrid Spring:  0.173391494002181 0.08269348483539272 0.3763207911925146\n"
          ]
        }
      ]
    },
    {
      "cell_type": "code",
      "source": [
        "# non-gaussian data: non-parametric statistical analysis required\n",
        "\n",
        "# Mann-Whitney U Test\n",
        "print(stats.mannwhitneyu(rm_df_f['compound'], hb_df_f['compound']))\n",
        "print(stats.mannwhitneyu(rm_df_f['compound'], ip_df_f['compound']))\n",
        "print(stats.mannwhitneyu(hb_df_f['compound'], ip_df_f['compound']))\n",
        "print(stats.mannwhitneyu(rm_df_s['compound'], hb_df_s['compound']))\n",
        "print(stats.mannwhitneyu(rm_df_s['compound'], ip_df_s['compound']))\n",
        "print(stats.mannwhitneyu(hb_df_s['compound'], ip_df_s['compound']))"
      ],
      "metadata": {
        "colab": {
          "base_uri": "https://localhost:8080/"
        },
        "id": "XRbL6Tuea_m5",
        "outputId": "0bdf90a3-4da6-4028-b4f6-c0cec17b6d10"
      },
      "execution_count": null,
      "outputs": [
        {
          "output_type": "stream",
          "name": "stdout",
          "text": [
            "MannwhitneyuResult(statistic=110057735.5, pvalue=0.029370435243663926)\n",
            "MannwhitneyuResult(statistic=119942352.0, pvalue=0.0005395893093545927)\n",
            "MannwhitneyuResult(statistic=236329685.0, pvalue=0.04947833672188839)\n",
            "MannwhitneyuResult(statistic=132471340.0, pvalue=4.517611473815571e-15)\n",
            "MannwhitneyuResult(statistic=111817455.5, pvalue=1.0529288030976073e-08)\n",
            "MannwhitneyuResult(statistic=50871342.0, pvalue=1.7664203556801755e-32)\n"
          ]
        }
      ]
    },
    {
      "cell_type": "code",
      "source": [
        "# confidence intervals for means\n",
        "def get_conf(df):\n",
        "  sentiment_scores = df['compound'].tolist()\n",
        "  mean = np.mean(sentiment_scores)\n",
        "  conf_int = st.norm.interval(alpha=0.95, loc=mean, scale=st.sem(sentiment_scores))\n",
        "  print((conf_int[1] - conf_int[0]))\n",
        "\n",
        "get_conf(rm_df_f)\n",
        "get_conf(rm_df_s)\n",
        "get_conf(ip_df_f)\n",
        "get_conf(ip_df_s)\n",
        "get_conf(hb_df_f)\n",
        "get_conf(hb_df_s)"
      ],
      "metadata": {
        "colab": {
          "base_uri": "https://localhost:8080/"
        },
        "id": "3D2o_m3Jc1gx",
        "outputId": "9a80ecef-fe33-4b07-db8d-695751c8a831"
      },
      "execution_count": null,
      "outputs": [
        {
          "output_type": "stream",
          "name": "stdout",
          "text": [
            "0.014374215761069842\n",
            "0.010475332778305368\n",
            "0.009983292598012505\n",
            "0.01488268876193749\n",
            "0.010462654371930336\n",
            "0.013712987727518305\n"
          ]
        }
      ]
    },
    {
      "cell_type": "code",
      "metadata": {
        "colab": {
          "base_uri": "https://localhost:8080/",
          "height": 282
        },
        "id": "7hJJNj_09tr6",
        "outputId": "952bf1b2-3516-45c5-a5d4-b91836728e47"
      },
      "source": [
        "# set width of bars\n",
        "barWidth = 0.35\n",
        " \n",
        "# set heights of bars\n",
        "bars2 = [rm_mean_f, ip_mean_f, hb_mean_f]\n",
        "bars3 = [rm_mean_s, ip_mean_s, hb_mean_s]\n",
        " \n",
        "# Set position of bar on X axis\n",
        "r2 = np.arange(len(bars2))\n",
        "r3 = [x + barWidth for x in r2]\n",
        " \n",
        "# Make the plot\n",
        "plt.bar(r2, bars2, yerr=[0.014374215761069842 / 2, 0.009983292598012505 / 2, 0.010462654371930336 / 2], color='#7f6d5f', width=barWidth, edgecolor='white', label='Fall 2020')\n",
        "plt.bar(r3, bars3, yerr=[0.010475332778305368 / 2, 0.01488268876193749 / 2, 0.013712987727518305 / 2], color='#2d7f5e', width=barWidth, edgecolor='white', label='Spring 2021')\n",
        " \n",
        "# Add xticks on the middle of the group bars\n",
        "plt.xticks([r + barWidth - 0.175 for r in range(len(bars1))], ['Online', 'In-Person', 'Hybrid'])\n",
        "plt.ylabel('Mean Comment Sentiment')\n",
        "\n",
        "# Create legend & Show graphic\n",
        "plt.legend()"
      ],
      "execution_count": null,
      "outputs": [
        {
          "output_type": "execute_result",
          "data": {
            "text/plain": [
              "<matplotlib.legend.Legend at 0x7f6b8459d5d0>"
            ]
          },
          "metadata": {},
          "execution_count": 123
        },
        {
          "output_type": "display_data",
          "data": {
            "image/png": "[encoded data removed]",
            "text/plain": [
              "<Figure size 432x288 with 1 Axes>"
            ]
          },
          "metadata": {
            "needs_background": "light"
          }
        }
      ]
    },
    {
      "cell_type": "markdown",
      "metadata": {
        "id": "QgCBygfC9X-P"
      },
      "source": [
        "Sentiment Based on Region"
      ]
    },
    {
      "cell_type": "code",
      "metadata": {
        "id": "8thmJ48s3ykR"
      },
      "source": [
        "import statsmodels.api as sm\n",
        "\n",
        "import statsmodels.formula.api as smf"
      ],
      "execution_count": null,
      "outputs": []
    },
    {
      "cell_type": "code",
      "source": [
        "fall_mean_sent = []\n",
        "spring_mean_sent = []\n",
        "for school in all_univs:\n",
        "  fall_mean_sent.append(all_uni_stats[school][1])\n",
        "  spring_mean_sent.append(all_uni_stats[school][4])\n",
        "\n",
        "sent = fall_mean_sent + spring_mean_sent\n",
        "print(sent)"
      ],
      "metadata": {
        "colab": {
          "base_uri": "https://localhost:8080/"
        },
        "id": "H0_TCNsZzYYj",
        "outputId": "aa848af6-2a59-4479-96f1-53a67434d475"
      },
      "execution_count": 146,
      "outputs": [
        {
          "output_type": "stream",
          "name": "stdout",
          "text": [
            "[0.10974125258799172, 0.21054133333333333, 0.14081714285714286, 0.047364593301435415, 0.10727984615384614, 0.14478686046511627, 0.13672860215053764, 0.14042220670391062, 0.1312768115942029, 0.2620523809523809, 0.22574212721584982, 0.12455386680988186, 0.17332173913043478, 0.17515395095367844, 0.09978988095238095, 0.18149332369942198, 0.3188673716012085, 0.07390229202037353, 0.025278090943254422, 0.14088271062271063, 0.015164014466546112, 0.12016125000000001, 0.026816056034482758, 0.11016857825567505, 0.2470306338028169, 0.05299388523047977, 0.0989737986270023, 0.13163782505910165, 0.17555403288958496, 0.16191587646802957, 0.0639828502415459, 0.11562668539325843, 0.11425344995140914, 0.27979187648456055, 0.06894626623376623, 0.09197456, 0.08871785962473941, 0.12760135275754422, 0.23342430555555554, 0.19898917910447764, 0.02828339410939691, 0.2168076158940397, 0.28581041055718476, 0.14746952380952383, 0.25616286836935165, 0.15056095186587345, 0.13500444444444445, 0.11459285714285715, 0.060894193548387106, 0.14873045375218152, 0.14496758620689654, 0.19776238738738738, 0.30189027690371306, 0.03127030284301607, 0.2031006756756757, 0.2917582266009852, 0.13283315789473685, 0.12103167701863354, 0.1540778110944528, 0.10162513966480448, 0.12343578174186778, 0.2978141779788839, 0.20020794025157232, 0.079994625, 0.19346887417218542, 0.058837372262773725, 0.2118833333333334, 0.09611093951093952, 0.12946535947712418, 0.12211106557377048, 0.0768529268292683, 0.06981220293724966, 0.20462590132827324, 0.2181059399021663, 0.04604731823599524, 0.03187680843329698, 0.16311779497098644, 0.18019583333333336, 0.26436642487046635, 0.04876703096539162, 0.13213051409618573, 0.16393711111111114, -0.059573588146875675, 0.13837128953771288, 0.1354138067061144, -0.0015678378378378374, 0.07627109144542772, 0.26094565756823823, 0.2207, 0.20890977375565611]\n"
          ]
        }
      ]
    },
    {
      "cell_type": "code",
      "source": [
        "cases = []\n",
        "for school in all_univs:\n",
        "  if school in new_england:\n",
        "    cases.append(2.87695543122557)\n",
        "  elif school in mid_atlantic:\n",
        "    cases.append(3.4372237388163573)\n",
        "  elif school in east_north_central:\n",
        "    cases.append(6.33303941595009)\n",
        "  elif school in west_north_central:\n",
        "    cases.append(8.091565578753393)\n",
        "  elif school in south_atlantic:\n",
        "    cases.append(4.451383229853076)\n",
        "  elif school in east_south_central:\n",
        "    cases.append(6.485332182535187)\n",
        "  elif school in west_south_central:\n",
        "    cases.append(6.157937392531796)\n",
        "  elif school in mountain:\n",
        "    cases.append(6.6513582043307125)\n",
        "  elif school in pacific:\n",
        "    cases.append(3.4804517410057656)\n",
        "\n",
        "for school in all_univs:\n",
        "  if school in new_england:\n",
        "    cases.append(4.104581590152892)\n",
        "  elif school in mid_atlantic:\n",
        "    cases.append(5.085395401215568)\n",
        "  elif school in east_north_central:\n",
        "    cases.append(3.422274059230989)\n",
        "  elif school in west_north_central:\n",
        "    cases.append(2.9094031082019614)\n",
        "  elif school in south_atlantic:\n",
        "    cases.append(4.108145517436194)\n",
        "  elif school in east_south_central:\n",
        "    cases.append(3.7419580558513004)\n",
        "  elif school in west_south_central:\n",
        "    cases.append(3.7802309974428185)\n",
        "  elif school in mountain:\n",
        "    cases.append(3.403795555115627)\n",
        "  elif school in pacific:\n",
        "    cases.append(2.471691099996717)"
      ],
      "metadata": {
        "id": "RCJ8CN820Y1K"
      },
      "execution_count": 122,
      "outputs": []
    },
    {
      "cell_type": "code",
      "source": [
        "deaths = []\n",
        "for school in all_univs:\n",
        "  if school in new_england:\n",
        "    deaths.append(0.046374580827569685)\n",
        "  elif school in mid_atlantic:\n",
        "    deaths.append(0.05905766822073005)\n",
        "  elif school in east_north_central:\n",
        "    deaths.append(0.07076216023354316)\n",
        "  elif school in west_north_central:\n",
        "    deaths.append(0.09741081763518489)\n",
        "  elif school in south_atlantic:\n",
        "    deaths.append(0.06151975877044149)\n",
        "  elif school in east_south_central:\n",
        "    deaths.append(0.0857277100217408)\n",
        "  elif school in west_south_central:\n",
        "    deaths.append(0.08561815976973948)\n",
        "  elif school in mountain:\n",
        "    deaths.append(0.07097546105114794)\n",
        "  elif school in pacific:\n",
        "    deaths.append(0.029647461990574886)\n",
        "\n",
        "for school in all_univs:\n",
        "  if school in new_england:\n",
        "    deaths.append(0.0545208786569808)\n",
        "  elif school in mid_atlantic:\n",
        "    deaths.append(0.08237951788293428)\n",
        "  elif school in east_north_central:\n",
        "    deaths.append(0.07260541709449206)\n",
        "  elif school in west_north_central:\n",
        "    deaths.append(0.05412796117231704)\n",
        "  elif school in south_atlantic:\n",
        "    deaths.append(0.07732050809543047)\n",
        "  elif school in east_south_central:\n",
        "    deaths.append(0.09930961328330697)\n",
        "  elif school in west_south_central:\n",
        "    deaths.append(0.08553192103418158)\n",
        "  elif school in mountain:\n",
        "    deaths.append(0.06355509683974972)\n",
        "  elif school in pacific:\n",
        "    deaths.append(0.03872182862225765)"
      ],
      "metadata": {
        "id": "TNj1z_YJ296b"
      },
      "execution_count": 123,
      "outputs": []
    },
    {
      "cell_type": "code",
      "source": [
        "policy = []\n",
        "\n",
        "for school in all_univs:\n",
        "  if school in online_f:\n",
        "    policy.append(\"Online\")\n",
        "  elif school in hybrid_f:\n",
        "    policy.append(\"Hybrid\")\n",
        "  elif school in in_person_f:\n",
        "    policy.append(\"In-Person\")\n",
        "\n",
        "for school in all_univs:\n",
        "  if school in online_s:\n",
        "    policy.append(\"Online\")\n",
        "  elif school in hybrid_s:\n",
        "    policy.append(\"Hybrid\")\n",
        "  elif school in in_person_s:\n",
        "    policy.append(\"In-Person\")"
      ],
      "metadata": {
        "id": "wkls7h2cKR2t"
      },
      "execution_count": 124,
      "outputs": []
    },
    {
      "cell_type": "code",
      "source": [
        "all_sentiment_scores = [item for sublist in all_sentiment_scores for item in sublist]"
      ],
      "metadata": {
        "id": "1Gk7-_VhZVpo"
      },
      "execution_count": 106,
      "outputs": []
    },
    {
      "cell_type": "code",
      "source": [
        "data = pd.DataFrame(list(zip(sent, cases, deaths, policy)), columns =['Sentiment', 'Cases', 'Deaths', 'Policy'])\n",
        "\n",
        "X = data[['Cases', 'Policy']]\n",
        "X = pd.get_dummies(data=X, drop_first=True)\n",
        "Y = data['Sentiment']\n",
        "X.head\n",
        "\n",
        "X = sm.add_constant(X)\n",
        "\n",
        "\n",
        "# Fit regression model (using the natural log of one of the regressors)\n",
        "results = sm.OLS(Y, X).fit()\n",
        "\n",
        "# # Inspect the results\n",
        "print(results.summary())\n"
      ],
      "metadata": {
        "colab": {
          "base_uri": "https://localhost:8080/"
        },
        "id": "gtWo-MJz57Mz",
        "outputId": "3a90530c-6719-4d7a-8b9c-fd0a87dc2151"
      },
      "execution_count": 150,
      "outputs": [
        {
          "output_type": "stream",
          "name": "stdout",
          "text": [
            "                            OLS Regression Results                            \n",
            "==============================================================================\n",
            "Dep. Variable:              Sentiment   R-squared:                       0.034\n",
            "Model:                            OLS   Adj. R-squared:                 -0.000\n",
            "Method:                 Least Squares   F-statistic:                    0.9981\n",
            "Date:                Mon, 10 Jan 2022   Prob (F-statistic):              0.398\n",
            "Time:                        23:21:08   Log-Likelihood:                 104.87\n",
            "No. Observations:                  90   AIC:                            -201.7\n",
            "Df Residuals:                      86   BIC:                            -191.7\n",
            "Df Model:                           3                                         \n",
            "Covariance Type:            nonrobust                                         \n",
            "====================================================================================\n",
            "                       coef    std err          t      P>|t|      [0.025      0.975]\n",
            "------------------------------------------------------------------------------------\n",
            "const                0.1788      0.030      5.949      0.000       0.119       0.239\n",
            "Cases               -0.0088      0.006     -1.603      0.112      -0.020       0.002\n",
            "Policy_In-Person     0.0048      0.021      0.229      0.819      -0.037       0.046\n",
            "Policy_Online        0.0048      0.020      0.235      0.814      -0.036       0.045\n",
            "==============================================================================\n",
            "Omnibus:                        0.834   Durbin-Watson:                   1.980\n",
            "Prob(Omnibus):                  0.659   Jarque-Bera (JB):                0.656\n",
            "Skew:                           0.209   Prob(JB):                        0.720\n",
            "Kurtosis:                       2.988   Cond. No.                         20.6\n",
            "==============================================================================\n",
            "\n",
            "Notes:\n",
            "[1] Standard Errors assume that the covariance matrix of the errors is correctly specified.\n"
          ]
        }
      ]
    },
    {
      "cell_type": "code",
      "source": [
        "lm = pg.linear_regression(X, Y, relimp=True)\n",
        "display(lm) "
      ],
      "metadata": {
        "colab": {
          "base_uri": "https://localhost:8080/",
          "height": 175
        },
        "id": "kJYJfYGeIDLV",
        "outputId": "ed03f40f-3b93-42c7-a02b-5c57feb2eefc"
      },
      "execution_count": 151,
      "outputs": [
        {
          "output_type": "display_data",
          "data": {
            "text/html": [
              "\n",
              "  <div id=\"df-5552e0be-0730-49e2-b789-a38d67fa8289\">\n",
              "    <div class=\"colab-df-container\">\n",
              "      <div>\n",
              "<style scoped>\n",
              "    .dataframe tbody tr th:only-of-type {\n",
              "        vertical-align: middle;\n",
              "    }\n",
              "\n",
              "    .dataframe tbody tr th {\n",
              "        vertical-align: top;\n",
              "    }\n",
              "\n",
              "    .dataframe thead th {\n",
              "        text-align: right;\n",
              "    }\n",
              "</style>\n",
              "<table border=\"1\" class=\"dataframe\">\n",
              "  <thead>\n",
              "    <tr style=\"text-align: right;\">\n",
              "      <th></th>\n",
              "      <th>names</th>\n",
              "      <th>coef</th>\n",
              "      <th>se</th>\n",
              "      <th>T</th>\n",
              "      <th>pval</th>\n",
              "      <th>r2</th>\n",
              "      <th>adj_r2</th>\n",
              "      <th>CI[2.5%]</th>\n",
              "      <th>CI[97.5%]</th>\n",
              "      <th>relimp</th>\n",
              "      <th>relimp_perc</th>\n",
              "    </tr>\n",
              "  </thead>\n",
              "  <tbody>\n",
              "    <tr>\n",
              "      <th>0</th>\n",
              "      <td>Intercept</td>\n",
              "      <td>0.178797</td>\n",
              "      <td>0.030054</td>\n",
              "      <td>5.949263</td>\n",
              "      <td>5.659575e-08</td>\n",
              "      <td>0.033645</td>\n",
              "      <td>-0.000065</td>\n",
              "      <td>0.119052</td>\n",
              "      <td>0.238541</td>\n",
              "      <td>NaN</td>\n",
              "      <td>NaN</td>\n",
              "    </tr>\n",
              "    <tr>\n",
              "      <th>1</th>\n",
              "      <td>Cases</td>\n",
              "      <td>-0.008845</td>\n",
              "      <td>0.005516</td>\n",
              "      <td>-1.603473</td>\n",
              "      <td>1.124968e-01</td>\n",
              "      <td>0.033645</td>\n",
              "      <td>-0.000065</td>\n",
              "      <td>-0.019810</td>\n",
              "      <td>0.002121</td>\n",
              "      <td>0.030717</td>\n",
              "      <td>91.297622</td>\n",
              "    </tr>\n",
              "    <tr>\n",
              "      <th>2</th>\n",
              "      <td>Policy_In-Person</td>\n",
              "      <td>0.004785</td>\n",
              "      <td>0.020868</td>\n",
              "      <td>0.229313</td>\n",
              "      <td>8.191702e-01</td>\n",
              "      <td>0.033645</td>\n",
              "      <td>-0.000065</td>\n",
              "      <td>-0.036698</td>\n",
              "      <td>0.046269</td>\n",
              "      <td>0.000470</td>\n",
              "      <td>1.398127</td>\n",
              "    </tr>\n",
              "    <tr>\n",
              "      <th>3</th>\n",
              "      <td>Policy_Online</td>\n",
              "      <td>0.004774</td>\n",
              "      <td>0.020273</td>\n",
              "      <td>0.235498</td>\n",
              "      <td>8.143825e-01</td>\n",
              "      <td>0.033645</td>\n",
              "      <td>-0.000065</td>\n",
              "      <td>-0.035527</td>\n",
              "      <td>0.045076</td>\n",
              "      <td>0.002458</td>\n",
              "      <td>7.304251</td>\n",
              "    </tr>\n",
              "  </tbody>\n",
              "</table>\n",
              "</div>\n",
              "      <button class=\"colab-df-convert\" onclick=\"convertToInteractive('df-5552e0be-0730-49e2-b789-a38d67fa8289')\"\n",
              "              title=\"Convert this dataframe to an interactive table.\"\n",
              "              style=\"display:none;\">\n",
              "        \n",
              "  <svg xmlns=\"http://www.w3.org/2000/svg\" height=\"24px\"viewBox=\"0 0 24 24\"\n",
              "       width=\"24px\">\n",
              "    <path d=\"M0 0h24v24H0V0z\" fill=\"none\"/>\n",
              "    <path d=\"M18.56 5.44l.94 2.06.94-2.06 2.06-.94-2.06-.94-.94-2.06-.94 2.06-2.06.94zm-11 1L8.5 8.5l.94-2.06 2.06-.94-2.06-.94L8.5 2.5l-.94 2.06-2.06.94zm10 10l.94 2.06.94-2.06 2.06-.94-2.06-.94-.94-2.06-.94 2.06-2.06.94z\"/><path d=\"M17.41 7.96l-1.37-1.37c-.4-.4-.92-.59-1.43-.59-.52 0-1.04.2-1.43.59L10.3 9.45l-7.72 7.72c-.78.78-.78 2.05 0 2.83L4 21.41c.39.39.9.59 1.41.59.51 0 1.02-.2 1.41-.59l7.78-7.78 2.81-2.81c.8-.78.8-2.07 0-2.86zM5.41 20L4 18.59l7.72-7.72 1.47 1.35L5.41 20z\"/>\n",
              "  </svg>\n",
              "      </button>\n",
              "      \n",
              "  <style>\n",
              "    .colab-df-container {\n",
              "      display:flex;\n",
              "      flex-wrap:wrap;\n",
              "      gap: 12px;\n",
              "    }\n",
              "\n",
              "    .colab-df-convert {\n",
              "      background-color: #E8F0FE;\n",
              "      border: none;\n",
              "      border-radius: 50%;\n",
              "      cursor: pointer;\n",
              "      display: none;\n",
              "      fill: #1967D2;\n",
              "      height: 32px;\n",
              "      padding: 0 0 0 0;\n",
              "      width: 32px;\n",
              "    }\n",
              "\n",
              "    .colab-df-convert:hover {\n",
              "      background-color: #E2EBFA;\n",
              "      box-shadow: 0px 1px 2px rgba(60, 64, 67, 0.3), 0px 1px 3px 1px rgba(60, 64, 67, 0.15);\n",
              "      fill: #174EA6;\n",
              "    }\n",
              "\n",
              "    [theme=dark] .colab-df-convert {\n",
              "      background-color: #3B4455;\n",
              "      fill: #D2E3FC;\n",
              "    }\n",
              "\n",
              "    [theme=dark] .colab-df-convert:hover {\n",
              "      background-color: #434B5C;\n",
              "      box-shadow: 0px 1px 3px 1px rgba(0, 0, 0, 0.15);\n",
              "      filter: drop-shadow(0px 1px 2px rgba(0, 0, 0, 0.3));\n",
              "      fill: #FFFFFF;\n",
              "    }\n",
              "  </style>\n",
              "\n",
              "      <script>\n",
              "        const buttonEl =\n",
              "          document.querySelector('#df-5552e0be-0730-49e2-b789-a38d67fa8289 button.colab-df-convert');\n",
              "        buttonEl.style.display =\n",
              "          google.colab.kernel.accessAllowed ? 'block' : 'none';\n",
              "\n",
              "        async function convertToInteractive(key) {\n",
              "          const element = document.querySelector('#df-5552e0be-0730-49e2-b789-a38d67fa8289');\n",
              "          const dataTable =\n",
              "            await google.colab.kernel.invokeFunction('convertToInteractive',\n",
              "                                                     [key], {});\n",
              "          if (!dataTable) return;\n",
              "\n",
              "          const docLinkHtml = 'Like what you see? Visit the ' +\n",
              "            '<a target=\"_blank\" href=https://colab.research.google.com/notebooks/data_table.ipynb>data table notebook</a>'\n",
              "            + ' to learn more about interactive tables.';\n",
              "          element.innerHTML = '';\n",
              "          dataTable['output_type'] = 'display_data';\n",
              "          await google.colab.output.renderOutput(dataTable, element);\n",
              "          const docLink = document.createElement('div');\n",
              "          docLink.innerHTML = docLinkHtml;\n",
              "          element.appendChild(docLink);\n",
              "        }\n",
              "      </script>\n",
              "    </div>\n",
              "  </div>\n",
              "  "
            ],
            "text/plain": [
              "              names      coef        se  ...  CI[97.5%]    relimp  relimp_perc\n",
              "0         Intercept  0.178797  0.030054  ...   0.238541       NaN          NaN\n",
              "1             Cases -0.008845  0.005516  ...   0.002121  0.030717    91.297622\n",
              "2  Policy_In-Person  0.004785  0.020868  ...   0.046269  0.000470     1.398127\n",
              "3     Policy_Online  0.004774  0.020273  ...   0.045076  0.002458     7.304251\n",
              "\n",
              "[4 rows x 11 columns]"
            ]
          },
          "metadata": {}
        }
      ]
    },
    {
      "cell_type": "code",
      "metadata": {
        "id": "H4ZblIf2jh6O"
      },
      "source": [
        "# New England\n",
        "ne_pc, ne_mean, ne_stdev, ne_df = compile_filter_analyze(new_england, False, False)\n",
        "ne_pc_f, ne_mean_f, ne_stdev_f, ne_df_f = compile_filter_analyze(new_england, True, False)\n",
        "ne_pc_s, ne_mean_s, ne_stdev_s, ne_df_s = compile_filter_analyze(new_england, False, True)\n",
        "\n",
        "# Mid-Atlantic\n",
        "ma_pc, ma_mean, ma_stdev, ma_df = compile_filter_analyze(mid_atlantic, False, False)\n",
        "ma_pc_f, ma_mean_f, ma_stdev_f, ma_df_f = compile_filter_analyze(mid_atlantic, True, False)\n",
        "ma_pc_s, ma_mean_s, ma_stdev_s, ma_df_s = compile_filter_analyze(mid_atlantic, False, True)\n",
        "\n",
        "# East North Central\n",
        "enc_pc, enc_mean, enc_stdev, enc_df = compile_filter_analyze(east_north_central, False, False)\n",
        "enc_pc_f, enc_mean_f, enc_stdev_f, enc_df_f = compile_filter_analyze(east_north_central, True, False)\n",
        "enc_pc_s, enc_mean_s, enc_stdev_s, enc_df_s  = compile_filter_analyze(east_north_central, False, True)\n",
        "\n",
        "# West North Central\n",
        "wnc_pc, wnc_mean, wnc_stdev, wnc_df = compile_filter_analyze(west_north_central, False, False)\n",
        "wnc_pc_f, wnc_mean_f, wnc_stdev_f, wnc_df_f = compile_filter_analyze(west_north_central, True, False)\n",
        "wnc_pc_s, wnc_mean_s, wnc_stdev_s, wnc_df_s = compile_filter_analyze(west_north_central, False, True)\n",
        "\n",
        "# South Atlantic\n",
        "sa_pc, sa_mean, sa_stdev, sa_df = compile_filter_analyze(south_atlantic, False, False)\n",
        "sa_pc_f, sa_mean_f, sa_stdev_f, sa_df_f = compile_filter_analyze(south_atlantic, True, False)\n",
        "sa_pc_s, sa_mean_s, sa_stdev_s, sa_df_s = compile_filter_analyze(south_atlantic, False, True)\n",
        "\n",
        "# East South Central\n",
        "esc_pc, esc_mean, esc_stdev, esc_df = compile_filter_analyze(east_south_central, False, False)\n",
        "esc_pc_f, esc_mean_f, esc_stdev_f, esc_df_f = compile_filter_analyze(east_south_central, True, False)\n",
        "esc_pc_s, esc_mean_s, esc_stdev_s, esc_df_s = compile_filter_analyze(east_south_central, False, True)\n",
        "\n",
        "# West South Central\n",
        "wsc_pc, wsc_mean, wsc_stdev, wsc_df = compile_filter_analyze(west_south_central, False)\n",
        "wsc_pc_f, wsc_mean_f, wsc_stdev_f, wsc_df_f = compile_filter_analyze(west_south_central, True, False)\n",
        "wsc_pc_s, wsc_mean_s, wsc_stdev_s, wsc_df_s = compile_filter_analyze(west_south_central, False, True)\n",
        "\n",
        "# Mountain\n",
        "mt_pc, mt_mean, mt_stdev, mt_df = compile_filter_analyze(mountain, False, False)\n",
        "mt_pc_f, mt_mean_f, mt_stdev_f, mt_df_f = compile_filter_analyze(mountain, True, False)\n",
        "mt_pc_s, mt_mean_s, mt_stdev_s, mt_df_s = compile_filter_analyze(mountain, False, True)\n",
        "\n",
        "# Pacific\n",
        "pa_pc, pa_mean, pa_stdev, pa_df = compile_filter_analyze(pacific, False, False)\n",
        "pa_pc_f, pa_mean_f, pa_stdev_f, pa_df_f = compile_filter_analyze(pacific, True, False)\n",
        "pa_pc_s, pa_mean_s, pa_stdev_s, pa_df_s = compile_filter_analyze(pacific, False, True)"
      ],
      "execution_count": null,
      "outputs": []
    }
  ]
}